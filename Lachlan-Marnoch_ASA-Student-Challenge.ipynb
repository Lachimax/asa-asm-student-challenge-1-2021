{
 "cells": [
  {
   "cell_type": "markdown",
   "id": "91189b02",
   "metadata": {},
   "source": [
    "**This notebook written by Lachlan Marnoch**"
   ]
  },
  {
   "cell_type": "markdown",
   "id": "beeca041",
   "metadata": {},
   "source": [
    "The 2021 ASA meeting is organised around hubs in the major astronomical centres in Australia.  Provide an estimate of how much carbon has been saved by using this meeting format, rather than the standard ASA meeting format, where all the astronomers would have met in Melbourne.  Numbers of people at each hub are available on the ASA ASM website."
   ]
  },
  {
   "cell_type": "markdown",
   "id": "634c25fd",
   "metadata": {},
   "source": [
    "**NOTE:** I have performed all calculations under the hypothetical \"if there weren't any lockdowns\".\n",
    "\n",
    "**OTHER NOTE:** This notebook should be run with the working directory being the directory that holds it. That is, run \"jupyter notebook\" from inside the extracted zip."
   ]
  },
  {
   "cell_type": "markdown",
   "id": "da1c757c",
   "metadata": {},
   "source": [
    "Dependencies:\n",
    " - rasterio (installation instructions here: https://rasterio.readthedocs.io/en/latest/installation.html)\n",
    " - astropy\n",
    " - numpy\n",
    " - matplotlib\n",
    " - pyproj "
   ]
  },
  {
   "cell_type": "code",
   "execution_count": 1,
   "id": "3d91e516",
   "metadata": {},
   "outputs": [],
   "source": [
    "from astropy import units as un\n",
    "import numpy as np\n",
    "import math"
   ]
  },
  {
   "cell_type": "markdown",
   "id": "4e678593",
   "metadata": {},
   "source": [
    "First, we use the population distribution of Australia to select people coming to the conference."
   ]
  },
  {
   "cell_type": "markdown",
   "id": "6fd4c675",
   "metadata": {},
   "source": [
    "ABS population grid retrieved from:\n",
    "\n",
    "https://www.abs.gov.au/statistics/people/population/regional-population/2019-20/Australian_Population_Grid_2020_in_TIFF_format.zip\n",
    "\n",
    "This gives us the modelled population density in every square kilometre across Australia. See plot below.\n",
    "\n",
    "This model isn't entirely realistic for our purposes, since we would probably assume most participants are associated with a university and therefore live nearby one, rather than tracing the Australian population. However, we can hope that it averages out. Perhaps we could try drawing from a list of universities next time."
   ]
  },
  {
   "cell_type": "code",
   "execution_count": 2,
   "id": "0216f211",
   "metadata": {},
   "outputs": [
    {
     "data": {
      "text/plain": [
       "<matplotlib.image.AxesImage at 0x7f86837d55e0>"
      ]
     },
     "execution_count": 2,
     "metadata": {},
     "output_type": "execute_result"
    },
    {
     "data": {
      "image/png": "[encoded data removed]",
      "text/plain": [
       "<Figure size 432x288 with 1 Axes>"
      ]
     },
     "metadata": {
      "needs_background": "light"
     },
     "output_type": "display_data"
    }
   ],
   "source": [
    "import rasterio\n",
    "import matplotlib.pyplot as plt\n",
    "import numpy as np\n",
    "from astropy.visualization import (ImageNormalize, LogStretch)\n",
    "\n",
    "abs_pop_file = 'APG20e_1_0_0.tif'\n",
    "abs_pop_read = rasterio.open(abs_pop_file)\n",
    "abs_pop_grid = abs_pop_read.read(1).astype('int64')\n",
    "mask = abs_pop_read.dataset_mask()\n",
    "crs = abs_pop_read.crs\n",
    "abs_pop_data = abs_pop_grid * mask\n",
    "plt.imshow(abs_pop_data, norm=ImageNormalize(abs_pop_data, stretch=LogStretch()))"
   ]
  },
  {
   "cell_type": "markdown",
   "id": "8267e891",
   "metadata": {},
   "source": [
    "Now, we establish a function from drawing from this distribution:"
   ]
  },
  {
   "cell_type": "code",
   "execution_count": 3,
   "id": "36522a56",
   "metadata": {},
   "outputs": [],
   "source": [
    "import numpy.random as rand\n",
    "\n",
    "# Make grids of x and y coordinates corresponding to every pixel of the data.\n",
    "coords_x, coords_y = np.meshgrid(np.arange(abs_pop_data.shape[1]), np.arange(abs_pop_data.shape[0]))\n",
    "# Flatten these grids, so that they may be sampled from by rand.choice\n",
    "coords_x_flat = coords_x.flatten()\n",
    "coords_y_flat = coords_y.flatten()\n",
    "# Build an array of weights from the population data, and normalise to sum = 1\n",
    "probabilities = abs_pop_data.flatten() / abs_pop_data.sum()\n",
    "# Array of indices to actually draw from using rand.choice\n",
    "index_list = np.arange(len(coords_x_flat))\n",
    "\n",
    "def draw_from_population(n: int = 100):\n",
    "    # Choose n indices from the index list, using the population probabilities as weights.\n",
    "    random_indices = rand.choice(index_list, n, p=probabilities)\n",
    "    # Use index to access x and y coordinates corresponding to this index.\n",
    "    x = coords_x_flat[random_indices]\n",
    "    y = coords_y_flat[random_indices]\n",
    "    return x, y"
   ]
  },
  {
   "cell_type": "markdown",
   "id": "37ba17e3",
   "metadata": {},
   "source": [
    "Test by overplotting sample of 100 drawn from this distribution; it seems consistent."
   ]
  },
  {
   "cell_type": "code",
   "execution_count": 4,
   "id": "043e8c00",
   "metadata": {},
   "outputs": [
    {
     "data": {
      "text/plain": [
       "<matplotlib.collections.PathCollection at 0x7f8683022130>"
      ]
     },
     "execution_count": 4,
     "metadata": {},
     "output_type": "execute_result"
    },
    {
     "data": {
      "image/png": "[encoded data removed]",
      "text/plain": [
       "<Figure size 432x288 with 1 Axes>"
      ]
     },
     "metadata": {
      "needs_background": "light"
     },
     "output_type": "display_data"
    }
   ],
   "source": [
    "x, y = draw_from_population(100)\n",
    "plt.imshow(abs_pop_data, norm=ImageNormalize(abs_pop_data, stretch=LogStretch()))\n",
    "plt.scatter(x,y, c=\"white\")"
   ]
  },
  {
   "cell_type": "markdown",
   "id": "0457c0ff",
   "metadata": {},
   "source": [
    "Because these coordinates are in the pixel space of the original GeoTIFF image, we need a means of translating them to global longitude and latitude, for compatibility with our airport data.\n",
    "\n",
    "The following code adapted from https://rasterio.groups.io/g/main/message/315"
   ]
  },
  {
   "cell_type": "code",
   "execution_count": 5,
   "id": "c4010827",
   "metadata": {},
   "outputs": [],
   "source": [
    "import pyproj\n",
    "\n",
    "def pixel_to_lonlat(x, y):\n",
    "    lon_abs, lat_abs = (x, y) * abs_pop_read.transform\n",
    "    lons, lats = pyproj.transform(abs_proj, glob_proj, lon_abs, lat_abs)\n",
    "    return lons, lats"
   ]
  },
  {
   "cell_type": "markdown",
   "id": "ebae2ea0",
   "metadata": {},
   "source": [
    "We're then going to need a means of measuring the distance from one point in long, lat to another.\n",
    "\n",
    "The following is adapted from my own code at https://github.com/Lachimax/pywebofworlds/blob/master/pywebofworlds/maps.py"
   ]
  },
  {
   "cell_type": "code",
   "execution_count": 12,
   "id": "56c650b0",
   "metadata": {},
   "outputs": [
    {
     "name": "stderr",
     "output_type": "stream",
     "text": [
      "/home/lachlan/Installations/anaconda3/envs/asa-challenge/lib/python3.9/site-packages/pyproj/crs/crs.py:53: FutureWarning: '+init=<authority>:<code>' syntax is deprecated. '<authority>:<code>' is the preferred initialization method. When making the change, be mindful of axis order changes: https://pyproj4.github.io/pyproj/stable/gotchas.html#axis-order-changes-in-proj-6\n",
      "  return _prepare_from_string(\" \".join(pjargs))\n",
      "/home/lachlan/Installations/anaconda3/envs/asa-challenge/lib/python3.9/site-packages/pyproj/crs/crs.py:294: FutureWarning: '+init=<authority>:<code>' syntax is deprecated. '<authority>:<code>' is the preferred initialization method. When making the change, be mindful of axis order changes: https://pyproj4.github.io/pyproj/stable/gotchas.html#axis-order-changes-in-proj-6\n",
      "  projstring = _prepare_from_string(\" \".join((projstring, projkwargs)))\n",
      "/home/lachlan/Installations/anaconda3/envs/asa-challenge/lib/python3.9/site-packages/pyproj/crs/crs.py:53: FutureWarning: '+init=<authority>:<code>' syntax is deprecated. '<authority>:<code>' is the preferred initialization method. When making the change, be mindful of axis order changes: https://pyproj4.github.io/pyproj/stable/gotchas.html#axis-order-changes-in-proj-6\n",
      "  return _prepare_from_string(\" \".join(pjargs))\n",
      "/home/lachlan/Installations/anaconda3/envs/asa-challenge/lib/python3.9/site-packages/pyproj/crs/crs.py:294: FutureWarning: '+init=<authority>:<code>' syntax is deprecated. '<authority>:<code>' is the preferred initialization method. When making the change, be mindful of axis order changes: https://pyproj4.github.io/pyproj/stable/gotchas.html#axis-order-changes-in-proj-6\n",
      "  projstring = _prepare_from_string(\" \".join((projstring, projkwargs)))\n"
     ]
    }
   ],
   "source": [
    "abs_proj = pyproj.Proj(init=\"epsg:3577\")\n",
    "glob_proj = pyproj.Proj(init=\"epsg:4326\")\n",
    "\n",
    "\n",
    "def great_circle_ang_dist(lon1: float, lat1: float, lon2: float, lat2: float):\n",
    "    \"\"\"\n",
    "    Calculates the great circle angular distance between two points on the map, in degrees. All units are interpreted as\n",
    "    degrees unless deg is given as False, in which case all units are interpreted as radians.\n",
    "    Constructed using https://en.wikipedia.org/wiki/Great-circle_distance\n",
    "    :param lon1: Longitude of first point, in degrees.\n",
    "    :param lat1: Latitude of first point.\n",
    "    :param lon2: Longitude of second point.\n",
    "    :param lat2: Latitude of second points.\n",
    "    :return: float, great circle angular distance, in radians.\n",
    "    \"\"\"\n",
    "\n",
    "    # Convert to radians.\n",
    "    lon1 = (lon1 * un.deg).to(un.radian).value\n",
    "    lon2 = (lon2 * un.deg).to(un.radian).value\n",
    "    lat1 = (lat1 * un.deg).to(un.radian).value\n",
    "    lat2 = (lat2 * un.deg).to(un.radian).value\n",
    "\n",
    "    delta_lon = lon2 - lon1\n",
    "    # Perform calculation.\n",
    "    return np.arccos(np.sin(lat1) * np.sin(lat2) + np.cos(lat1) * np.cos(lat2) * np.cos(delta_lon))\n",
    "\n",
    "def great_circle_distance(lon1: float, lat1: float, lon2: float, lat2: float, radius: float = 6371e3, deg: bool = True):\n",
    "    \"\"\"\n",
    "    Calculates the great circle distance between two points on the map, in metres. All units are interpreted as degrees\n",
    "    unless deg is given as False, in which case all units are interpreted as radians.\n",
    "    Constructed using https://en.wikipedia.org/wiki/Great-circle_distance\n",
    "    :param lon1: Longitude of first point.\n",
    "    :param lat1: Latitude of first point.\n",
    "    :param lon2: Longitude of second point.\n",
    "    :param lat2: Latitude of second points.\n",
    "    :param deg: Interpret units as degrees? If False, interprets as radians.\n",
    "    :param radius: Radius of the planet, in metres.\n",
    "    :return: float, great circle distance, in metres.\n",
    "    \"\"\"\n",
    "    if type(radius) is not un.Quantity:\n",
    "        radius *= un.m\n",
    "    # Calculate great circle angular distance.\n",
    "    ang_dist = great_circle_ang_dist(lon1=lon1, lat1=lat1, lon2=lon2, lat2=lat2)\n",
    "    # Multiply by radius of planet.\n",
    "    return radius.to(un.km) * ang_dist"
   ]
  },
  {
   "cell_type": "markdown",
   "id": "ad7d2ff1",
   "metadata": {},
   "source": [
    "Just a quick test using Sydney and Melbourne; consistent with the answer at https://www.distancecalculator.net/from-melbourne-to-sydney\n",
    "\n",
    "Coordinates from Wikipedia."
   ]
  },
  {
   "cell_type": "code",
   "execution_count": 13,
   "id": "c5a92698",
   "metadata": {},
   "outputs": [
    {
     "data": {
      "text/latex": [
       "$713.71164 \\; \\mathrm{km}$"
      ],
      "text/plain": [
       "<Quantity 713.71163611 km>"
      ]
     },
     "execution_count": 13,
     "metadata": {},
     "output_type": "execute_result"
    }
   ],
   "source": [
    "lon_sydney = 151.209444\n",
    "lat_sydney = -33.865\n",
    "\n",
    "lon_melbourne = 144.963056\n",
    "lat_melbourne = -37.813611\n",
    "\n",
    "great_circle_distance(lon1=lon_sydney, lat1=lat_sydney, lon2=lon_melbourne, lat2=lat_melbourne).to(un.km)"
   ]
  },
  {
   "cell_type": "markdown",
   "id": "e81fb9db",
   "metadata": {},
   "source": [
    "Load a (very thorough!) table of airports, including their locations. Downloaded from: https://ourairports.com/data/airports.csv\n",
    "\n",
    "Let's plot them just to see; oh, my aren't there a lot. They trace the Earth's landmass quite nicely."
   ]
  },
  {
   "cell_type": "code",
   "execution_count": 14,
   "id": "99349dd0",
   "metadata": {},
   "outputs": [
    {
     "data": {
      "text/plain": [
       "<matplotlib.collections.PathCollection at 0x7f860a72a400>"
      ]
     },
     "execution_count": 14,
     "metadata": {},
     "output_type": "execute_result"
    },
    {
     "data": {
      "image/png": "[encoded data removed]",
      "text/plain": [
       "<Figure size 432x288 with 1 Axes>"
      ]
     },
     "metadata": {
      "needs_background": "light"
     },
     "output_type": "display_data"
    }
   ],
   "source": [
    "from astropy import table\n",
    "airports = table.Table.read(\"airports.csv\")\n",
    "plt.scatter(airports['longitude_deg'], airports['latitude_deg'])"
   ]
  },
  {
   "cell_type": "code",
   "execution_count": 15,
   "id": "7af954cd",
   "metadata": {},
   "outputs": [
    {
     "data": {
      "text/plain": [
       "['id',\n",
       " 'ident',\n",
       " 'type',\n",
       " 'name',\n",
       " 'latitude_deg',\n",
       " 'longitude_deg',\n",
       " 'elevation_ft',\n",
       " 'continent',\n",
       " 'iso_country',\n",
       " 'iso_region',\n",
       " 'municipality',\n",
       " 'scheduled_service',\n",
       " 'gps_code',\n",
       " 'iata_code',\n",
       " 'local_code',\n",
       " 'home_link',\n",
       " 'wikipedia_link',\n",
       " 'keywords']"
      ]
     },
     "execution_count": 15,
     "metadata": {},
     "output_type": "execute_result"
    }
   ],
   "source": [
    "airports.colnames"
   ]
  },
  {
   "cell_type": "markdown",
   "id": "8432f34c",
   "metadata": {},
   "source": [
    "Let's trim this down to just the airports within our population map. We might just have to accept that some of Indonesia and New Guinea come along in the bargain.\n",
    "\n",
    "Are there really so many airports in the Australian desert?"
   ]
  },
  {
   "cell_type": "code",
   "execution_count": 16,
   "id": "e01ad46c",
   "metadata": {},
   "outputs": [
    {
     "name": "stderr",
     "output_type": "stream",
     "text": [
      "<ipython-input-5-8ac290c5f899>:4: DeprecationWarning: Right multiplication will be prohibited in version 3.0\n",
      "  lon_abs, lat_abs = (x, y) * abs_pop_read.transform\n",
      "<ipython-input-5-8ac290c5f899>:5: DeprecationWarning: This function is deprecated. See: https://pyproj4.github.io/pyproj/stable/gotchas.html#upgrading-to-pyproj-2-from-pyproj-1\n",
      "  lons, lats = pyproj.transform(abs_proj, glob_proj, lon_abs, lat_abs)\n"
     ]
    },
    {
     "data": {
      "text/plain": [
       "<matplotlib.collections.PathCollection at 0x7f860e0cb820>"
      ]
     },
     "execution_count": 16,
     "metadata": {},
     "output_type": "execute_result"
    },
    {
     "data": {
      "image/png": "[encoded data removed]",
      "text/plain": [
       "<Figure size 432x288 with 1 Axes>"
      ]
     },
     "metadata": {
      "needs_background": "light"
     },
     "output_type": "display_data"
    }
   ],
   "source": [
    "# First, get lon / lat of corners:\n",
    "lon_min, lat_max = pixel_to_lonlat(0, 0)\n",
    "lon_max, lat_min = pixel_to_lonlat(abs_pop_grid.shape[1], abs_pop_grid.shape[0])\n",
    "\n",
    "# Use to cut the table down to size\n",
    "airports_trimmed = airports[airports['longitude_deg'] < lon_max]\n",
    "airports_trimmed = airports_trimmed[airports_trimmed['longitude_deg'] > lon_min]\n",
    "airports_trimmed = airports_trimmed[airports_trimmed['latitude_deg'] < lat_max]\n",
    "airports_trimmed = airports_trimmed[airports_trimmed['latitude_deg'] > lat_min]\n",
    "plt.scatter(airports_trimmed['longitude_deg'], airports_trimmed['latitude_deg'])"
   ]
  },
  {
   "cell_type": "markdown",
   "id": "a98c2903",
   "metadata": {},
   "source": [
    "We'll also limit the airports to those labelled \"medium\" and \"large\" in the data, assuming that these are the ones from which it is possible to fly to the hubs."
   ]
  },
  {
   "cell_type": "code",
   "execution_count": 17,
   "id": "0e4f67f9",
   "metadata": {},
   "outputs": [
    {
     "data": {
      "text/plain": [
       "<matplotlib.collections.PathCollection at 0x7f860e1efee0>"
      ]
     },
     "execution_count": 17,
     "metadata": {},
     "output_type": "execute_result"
    },
    {
     "data": {
      "image/png": "[encoded data removed]",
      "text/plain": [
       "<Figure size 432x288 with 1 Axes>"
      ]
     },
     "metadata": {
      "needs_background": "light"
     },
     "output_type": "display_data"
    }
   ],
   "source": [
    "airports_trimmed_size = table.vstack([airports_trimmed[airports_trimmed['type'] == \"medium_airport\"], airports_trimmed[airports_trimmed['type'] == \"large_airport\"]])\n",
    "plt.scatter(airports_trimmed_size['longitude_deg'], airports_trimmed_size['latitude_deg'])"
   ]
  },
  {
   "cell_type": "markdown",
   "id": "0e667b6c",
   "metadata": {},
   "source": [
    "Much better.\n",
    "\n",
    "Now a function to find the nearest airport to a given point from this table:"
   ]
  },
  {
   "cell_type": "code",
   "execution_count": 18,
   "id": "12bc2eeb",
   "metadata": {},
   "outputs": [],
   "source": [
    "def nearest_airport(lon: float, lat: float):\n",
    "    distance = great_circle_distance(lon1=lon, lat1=lat, lon2=airports_trimmed_size['longitude_deg'], lat2=airports_trimmed_size['latitude_deg'])\n",
    "    i = np.argmin(distance)\n",
    "    return airports_trimmed_size[i], distance[i]"
   ]
  },
  {
   "cell_type": "markdown",
   "id": "61b60657",
   "metadata": {},
   "source": [
    "Test on the Sydney coordinates; presumably we will retrieve an airport in Sydney."
   ]
  },
  {
   "cell_type": "code",
   "execution_count": 19,
   "id": "0b2f811b",
   "metadata": {},
   "outputs": [
    {
     "name": "stdout",
     "output_type": "stream",
     "text": [
      "9.5017502217421 km\n"
     ]
    },
    {
     "data": {
      "text/html": [
       "<i>Row index=244</i>\n",
       "<table id=\"table140216347034816\">\n",
       "<thead><tr><th>id</th><th>ident</th><th>type</th><th>name</th><th>latitude_deg</th><th>longitude_deg</th><th>elevation_ft</th><th>continent</th><th>iso_country</th><th>iso_region</th><th>municipality</th><th>scheduled_service</th><th>gps_code</th><th>iata_code</th><th>local_code</th><th>home_link</th><th>wikipedia_link</th><th>keywords</th></tr></thead>\n",
       "<thead><tr><th>int64</th><th>str7</th><th>str14</th><th>str80</th><th>float64</th><th>float64</th><th>int64</th><th>str2</th><th>str2</th><th>str7</th><th>str48</th><th>str3</th><th>str4</th><th>str3</th><th>str7</th><th>str128</th><th>str128</th><th>str256</th></tr></thead>\n",
       "<tr><td>27145</td><td>YSSY</td><td>large_airport</td><td>Sydney Kingsford Smith International Airport</td><td>-33.94609832763672</td><td>151.177001953125</td><td>21</td><td>OC</td><td>AU</td><td>AU-NSW</td><td>Sydney</td><td>yes</td><td>YSSY</td><td>SYD</td><td>--</td><td>http://www.sydneyairport.com.au/</td><td>https://en.wikipedia.org/wiki/Kingsford_Smith_International_Airport</td><td>RAAF Station Mascot</td></tr>\n",
       "</table>"
      ],
      "text/plain": [
       "<Row index=244>\n",
       "  id  ident      type                         name                        latitude_deg     longitude_deg   elevation_ft continent iso_country iso_region municipality scheduled_service gps_code iata_code local_code            home_link                                        wikipedia_link                                 keywords     \n",
       "int64  str7     str14                        str80                          float64           float64         int64        str2       str2       str7       str48            str3         str4      str3      str7                 str128                                             str128                                      str256      \n",
       "----- ----- ------------- -------------------------------------------- ------------------ ---------------- ------------ --------- ----------- ---------- ------------ ----------------- -------- --------- ---------- -------------------------------- ------------------------------------------------------------------- -------------------\n",
       "27145  YSSY large_airport Sydney Kingsford Smith International Airport -33.94609832763672 151.177001953125           21        OC          AU     AU-NSW       Sydney               yes     YSSY       SYD         -- http://www.sydneyairport.com.au/ https://en.wikipedia.org/wiki/Kingsford_Smith_International_Airport RAAF Station Mascot"
      ]
     },
     "execution_count": 19,
     "metadata": {},
     "output_type": "execute_result"
    }
   ],
   "source": [
    "airport, dist = nearest_airport(lon_sydney, lat_sydney)\n",
    "print(dist)\n",
    "airport"
   ]
  },
  {
   "cell_type": "markdown",
   "id": "ac8d4708",
   "metadata": {},
   "source": [
    "Success.\n",
    "\n",
    "Let's do the same for the nearest hub. For simplicity's sake, we'll leave out the daily commutes from hotels etc. to the hub; this would require us to pick a place for each participant to stay, which is impractical, and in any case the daily commutes should roughly cancel out between the \"old\" format and the \"new\" format.\n",
    "\n",
    "University coordinates are from Wikipedia. Also, I guess the NZ hub never got confirmed? I also don't see any information about the Hobart hub on the event website, so I'll leave that out too."
   ]
  },
  {
   "cell_type": "code",
   "execution_count": 20,
   "id": "5ea8c74a",
   "metadata": {},
   "outputs": [
    {
     "name": "stderr",
     "output_type": "stream",
     "text": [
      "/home/lachlan/Installations/anaconda3/envs/asa-challenge/lib/python3.9/site-packages/astropy/table/column.py:1125: UserWarning: Warning: converting a masked element to nan.\n",
      "  self.data[index] = value\n"
     ]
    },
    {
     "data": {
      "image/png": "[encoded data removed]",
      "text/plain": [
       "<Figure size 432x288 with 1 Axes>"
      ]
     },
     "metadata": {
      "needs_background": "light"
     },
     "output_type": "display_data"
    }
   ],
   "source": [
    "hubs = [\n",
    "    \"online\",\n",
    "    \"adelaide\",\n",
    "    \"brisbane\",\n",
    "    \"canberra\",\n",
    "    \"melbourne\",\n",
    "    \"perth\",\n",
    "    \"sydney\"\n",
    "]\n",
    "\n",
    "hub_lons = np.array([\n",
    "    0.0,\n",
    "    138.605361,\n",
    "    153.013056,\n",
    "    149.006944,\n",
    "    144.9614,\n",
    "    115.893333,\n",
    "    151.187222\n",
    "])\n",
    "\n",
    "hub_lats = np.array([\n",
    "    0.0,\n",
    "    -34.920667,\n",
    "    -27.497222,\n",
    "    -35.320278,\n",
    "    -37.7963,\n",
    "    -32.006111,\n",
    "    -33.887778    \n",
    "])\n",
    "\n",
    "hub_nearest_airports = table.Table(names=airports.colnames, dtype=airports.dtype)\n",
    "for i in range(len(hubs)):\n",
    "    airport, dist = nearest_airport(hub_lons[i], hub_lats[i])\n",
    "    hub_nearest_airports.add_row(airport)\n",
    "hub_nearest_airports[0]['longitude_deg'] = np.ma.masked\n",
    "hub_nearest_airports[0]['latitude_deg'] = np.ma.masked\n",
    "\n",
    "plt.scatter(airports_trimmed_size['longitude_deg'], airports_trimmed_size['latitude_deg'])\n",
    "plt.scatter(hub_lons, hub_lats, c=\"red\")\n",
    "plt.scatter(hub_nearest_airports['longitude_deg'], hub_nearest_airports['latitude_deg'])\n",
    "\n",
    "def nearest_hub(lon: float, lat: float):\n",
    "    distance = great_circle_distance(lon1=lon, lat1=lat, lon2=hub_lons, lat2=hub_lats)\n",
    "    i = np.argmin(distance)\n",
    "    return i, distance[i]"
   ]
  },
  {
   "cell_type": "markdown",
   "id": "81c6d8f8",
   "metadata": {},
   "source": [
    "According to the ABS, the proportion of commuters using modes of transport are as follows. Let's use these as the approximate proportions of transport used to get to the nearest airport. Since few people walk or ride their bike to the airport, we'll fold that in to public transport.\n",
    "Stats from:\n",
    "https://www.abs.gov.au/ausstats/abs@.nsf/Lookup/by%20Subject/2071.0.55.001~2016~Main%20Features~Feature%20Article:%20Journey%20to%20Work%20in%20Australia~40"
   ]
  },
  {
   "cell_type": "code",
   "execution_count": 21,
   "id": "336c1cff",
   "metadata": {},
   "outputs": [
    {
     "data": {
      "text/plain": [
       "1.0"
      ]
     },
     "execution_count": 21,
     "metadata": {},
     "output_type": "execute_result"
    }
   ],
   "source": [
    "transport_modes = np.array([\"car\", \"public_transport\", \"other\"])\n",
    "transport_proportions = np.array([0.79, 0.14 + 0.052, 1-np.sum([0.79, 0.14 + 0.052])])\n",
    "np.sum(transport_proportions)"
   ]
  },
  {
   "cell_type": "markdown",
   "id": "04fa26f3",
   "metadata": {},
   "source": [
    "To obtain the relative carbon emissions, I'll use the figures in the following Climate Council report:\n",
    "\n",
    "https://www.climatecouncil.org.au/wp-content/uploads/2017/09/FactSheet-Transport.pdf (p6)\n",
    "\n",
    "We're going to have to assume that people travel as the crow flies; if I had time I might attempt to hook into the Google Maps API and calculate routes using that. Instead, I'll lean toward higher emission figures in an attempt to balance it out. For the unlisted \"other\" category I'll just take a mean of the others."
   ]
  },
  {
   "cell_type": "code",
   "execution_count": 22,
   "id": "b4cc2eb5",
   "metadata": {},
   "outputs": [
    {
     "data": {
      "text/latex": [
       "$184 \\; \\mathrm{\\frac{g}{km}}$"
      ],
      "text/plain": [
       "<Quantity 184. g / km>"
      ]
     },
     "execution_count": 22,
     "metadata": {},
     "output_type": "execute_result"
    }
   ],
   "source": [
    "carbon_car_avg = (184 * un.gram / un.km)\n",
    "carbon_car_avg"
   ]
  },
  {
   "cell_type": "markdown",
   "id": "a653f7e6",
   "metadata": {},
   "source": [
    "For public transport, we'll approximate by take an average between trains, light rail and bus."
   ]
  },
  {
   "cell_type": "code",
   "execution_count": 23,
   "id": "31fed9b2",
   "metadata": {},
   "outputs": [
    {
     "data": {
      "text/latex": [
       "$21.666667 \\; \\mathrm{\\frac{g}{km}}$"
      ],
      "text/plain": [
       "<Quantity 21.66666667 g / km>"
      ]
     },
     "execution_count": 23,
     "metadata": {},
     "output_type": "execute_result"
    }
   ],
   "source": [
    "carbon_publictransport_avg = np.mean([21, 22, 22]) * un.gram / un.km\n",
    "carbon_publictransport_avg"
   ]
  },
  {
   "cell_type": "code",
   "execution_count": 24,
   "id": "cd053346",
   "metadata": {},
   "outputs": [
    {
     "data": {
      "text/latex": [
       "$[184,~21.666667,~0,~68.555556] \\; \\mathrm{\\frac{g}{km}}$"
      ],
      "text/plain": [
       "<Quantity [184.        ,  21.66666667,   0.        ,  68.55555556] g / km>"
      ]
     },
     "execution_count": 24,
     "metadata": {},
     "output_type": "execute_result"
    }
   ],
   "source": [
    "transport_carbon = un.Quantity([carbon_car_avg, carbon_publictransport_avg, 0  * un.gram / un.km])\n",
    "transport_carbon = np.append(transport_carbon, transport_carbon.mean())\n",
    "transport_carbon"
   ]
  },
  {
   "cell_type": "markdown",
   "id": "c4f1d5ba",
   "metadata": {},
   "source": [
    "Set up function for drawing from these proportions."
   ]
  },
  {
   "cell_type": "code",
   "execution_count": 25,
   "id": "db2f39de",
   "metadata": {},
   "outputs": [],
   "source": [
    "def choose_local_transport(n=100):\n",
    "    indices = rand.choice(np.arange(len(transport_modes)), n, p=transport_proportions)\n",
    "    return transport_modes[indices], transport_carbon[indices]"
   ]
  },
  {
   "cell_type": "markdown",
   "id": "03a8a169",
   "metadata": {},
   "source": [
    "Test:"
   ]
  },
  {
   "cell_type": "code",
   "execution_count": 26,
   "id": "0e3953c0",
   "metadata": {},
   "outputs": [
    {
     "data": {
      "text/plain": [
       "(array([80.,  0.,  0.,  0.,  0., 19.,  0.,  0.,  0.,  1.]),\n",
       " array([0. , 0.2, 0.4, 0.6, 0.8, 1. , 1.2, 1.4, 1.6, 1.8, 2. ]),\n",
       " <BarContainer object of 10 artists>)"
      ]
     },
     "execution_count": 26,
     "metadata": {},
     "output_type": "execute_result"
    },
    {
     "data": {
      "image/png": "[encoded data removed]",
      "text/plain": [
       "<Figure size 432x288 with 1 Axes>"
      ]
     },
     "metadata": {
      "needs_background": "light"
     },
     "output_type": "display_data"
    }
   ],
   "source": [
    "modes, _ = choose_local_transport()\n",
    "plt.hist(modes)"
   ]
  },
  {
   "cell_type": "markdown",
   "id": "b77f8e91",
   "metadata": {},
   "source": [
    "According to the ICCT report on emissions from commercial aviation, the approximate CO2 emissions per passenger on domestic flights in 97 g / km.\n",
    "https://theicct.org/sites/default/files/publications/CO2-commercial-aviation-oct2020.pdf (p20)"
   ]
  },
  {
   "cell_type": "code",
   "execution_count": 27,
   "id": "5f5834bd",
   "metadata": {},
   "outputs": [],
   "source": [
    "carbon_flight = 97 * un.gram / un.km"
   ]
  },
  {
   "cell_type": "code",
   "execution_count": 28,
   "id": "363c6adb",
   "metadata": {},
   "outputs": [],
   "source": [
    "def total_carbon(x: int, y: int, hub: bool, verbose: bool = False):\n",
    "    lon, lat = pixel_to_lonlat(x, y)\n",
    "    if verbose:\n",
    "        print(\"Participant lives at\", lon, lat)\n",
    "    airport, dist_airport = nearest_airport(lon, lat)\n",
    "    if verbose:\n",
    "        print(\"Participant's nearest airport is\", airport[\"name\"], \",\" , dist_airport, \"away.\")\n",
    "    if hub:\n",
    "        hub_index, dist_hub = nearest_hub(lon, lat)\n",
    "    else:\n",
    "        hub_index = 4\n",
    "        dist_hub = great_circle_distance(lon1=lon, lat1=lat, lon2=hub_lons[hub_index], lat2=hub_lats[hub_index])\n",
    "    hub = hubs[hub_index]\n",
    "    hub_airport = hub_nearest_airports[hub_index]\n",
    "    if verbose:\n",
    "        print(\"Participant's nearest hub is\", hub, \",\" , dist_hub, \"away.\")\n",
    "\n",
    "\n",
    "    # No sense taking a plane if you live in the city already, or nearby. We'll make an arbitrary cutoff for flying.\n",
    "    cutoff = 70 * un.km\n",
    "    if dist_hub < cutoff:\n",
    "        if verbose:\n",
    "            print(f\"Participant doesn't have to fly since they live closer than {cutoff} to the hub.\")\n",
    "        carbon_to_airport = 0 * un.gram\n",
    "        carbon_to_hub = 0 * un.gram\n",
    "    elif dist_hub < dist_airport:\n",
    "        if verbose:        \n",
    "            print(\"Participant shouldn't fly since they live closer to the hub than to the nearest airport.\")\n",
    "        carbon_to_airport = 0 * un.gram\n",
    "        carbon_to_hub = 0 * un.gram\n",
    "    elif airport[\"name\"] == hub:\n",
    "        if verbose:\n",
    "            print(\"Participant shouldn't fly since the nearest airport to the hub is the same as their nearest airport.\")\n",
    "        carbon_to_airport = 0 * un.gram\n",
    "        carbon_to_hub = 0 * un.gram\n",
    "    else:\n",
    "        mode_to_airport, carbon_per_km_to_airport = choose_local_transport(1)\n",
    "        carbon_to_airport = (dist_airport * carbon_per_km_to_airport).to(un.gram)\n",
    "        if verbose:\n",
    "            print(\"Participant takes\", mode_to_airport[0], \"to the airport, using\", carbon_to_airport, \"of carbon.\")\n",
    "        dist_flight = great_circle_distance(lon1=airport[\"longitude_deg\"], \n",
    "                                            lat1=airport[\"latitude_deg\"],\n",
    "                                            lon2=hub_airport[\"longitude_deg\"],\n",
    "                                            lat2=hub_airport[\"latitude_deg\"]\n",
    "                                           )\n",
    "        carbon_to_hub = (dist_flight * carbon_flight).to(un.gram)\n",
    "        if verbose:\n",
    "            print(\"Participant flies\", dist_flight, \"to\", hub_airport[\"name\"], \", using\", carbon_to_hub, \"of carbon.\")\n",
    "    total = carbon_to_airport + carbon_to_hub\n",
    "    if verbose:\n",
    "        print(\"Participant is responsible for\", total.to(un.kg), \"total carbon emissions.\")\n",
    "    return total, hub_index"
   ]
  },
  {
   "cell_type": "markdown",
   "id": "8925e2e6",
   "metadata": {},
   "source": [
    "Let's take a single dummy participant, to try everything out. Going to the nearest hub:"
   ]
  },
  {
   "cell_type": "code",
   "execution_count": 29,
   "id": "2b016e09",
   "metadata": {},
   "outputs": [
    {
     "name": "stdout",
     "output_type": "stream",
     "text": [
      "Participant lives at [150.82485066] [-33.74642103]\n",
      "Participant's nearest airport is RAAF Base Richmond , 16.714358725996217 km away.\n",
      "Participant's nearest hub is sydney , 36.98323795966812 km away.\n",
      "Participant doesn't have to fly since they live closer than 70.0 km to the hub.\n",
      "Participant is responsible for 0.0 kg total carbon emissions.\n"
     ]
    },
    {
     "name": "stderr",
     "output_type": "stream",
     "text": [
      "<ipython-input-5-8ac290c5f899>:4: DeprecationWarning: Right multiplication will be prohibited in version 3.0\n",
      "  lon_abs, lat_abs = (x, y) * abs_pop_read.transform\n",
      "<ipython-input-5-8ac290c5f899>:5: DeprecationWarning: This function is deprecated. See: https://pyproj4.github.io/pyproj/stable/gotchas.html#upgrading-to-pyproj-2-from-pyproj-1\n",
      "  lons, lats = pyproj.transform(abs_proj, glob_proj, lon_abs, lat_abs)\n"
     ]
    }
   ],
   "source": [
    "x, y = draw_from_population(1)\n",
    "total_hub, _ = total_carbon(x, y, hub = True, verbose = True)"
   ]
  },
  {
   "cell_type": "markdown",
   "id": "cd1c9119",
   "metadata": {},
   "source": [
    "Or going to Melbourne:"
   ]
  },
  {
   "cell_type": "code",
   "execution_count": 30,
   "id": "f800b062",
   "metadata": {},
   "outputs": [
    {
     "name": "stdout",
     "output_type": "stream",
     "text": [
      "Participant lives at [150.82485066] [-33.74642103]\n",
      "Participant's nearest airport is RAAF Base Richmond , 16.714358725996217 km away.\n",
      "Participant's nearest hub is melbourne , [694.43886343] km away.\n",
      "Participant takes car to the airport, using [3075.44200558] g of carbon.\n",
      "Participant flies 701.6581188882418 km to Melbourne Essendon Airport , using 68060.83753215945 g of carbon.\n",
      "Participant is responsible for [71.13627954] kg total carbon emissions.\n"
     ]
    },
    {
     "name": "stderr",
     "output_type": "stream",
     "text": [
      "<ipython-input-5-8ac290c5f899>:4: DeprecationWarning: Right multiplication will be prohibited in version 3.0\n",
      "  lon_abs, lat_abs = (x, y) * abs_pop_read.transform\n",
      "<ipython-input-5-8ac290c5f899>:5: DeprecationWarning: This function is deprecated. See: https://pyproj4.github.io/pyproj/stable/gotchas.html#upgrading-to-pyproj-2-from-pyproj-1\n",
      "  lons, lats = pyproj.transform(abs_proj, glob_proj, lon_abs, lat_abs)\n"
     ]
    }
   ],
   "source": [
    "total_melbourne, _ = total_carbon(x, y, hub = False, verbose = True)"
   ]
  },
  {
   "cell_type": "code",
   "execution_count": 31,
   "id": "e999ebc5",
   "metadata": {},
   "outputs": [
    {
     "name": "stdout",
     "output_type": "stream",
     "text": [
      "This person saved [71.13627954] kg of carbon emissions under the new scheme.\n"
     ]
    }
   ],
   "source": [
    "print(\"This person saved\", (total_melbourne - total_hub).to(un.kg), \"of carbon emissions under the new scheme.\")"
   ]
  },
  {
   "cell_type": "markdown",
   "id": "ded800ec",
   "metadata": {},
   "source": [
    "According to the ASA ASM 2021 website, the hub attendance is as follows:"
   ]
  },
  {
   "cell_type": "code",
   "execution_count": 32,
   "id": "c6c6a950",
   "metadata": {},
   "outputs": [
    {
     "name": "stdout",
     "output_type": "stream",
     "text": [
      "Total participants: 447\n",
      "Total in-person participants: 337\n"
     ]
    },
    {
     "data": {
      "image/png": "[encoded data removed]",
      "text/plain": [
       "<Figure size 432x288 with 1 Axes>"
      ]
     },
     "metadata": {},
     "output_type": "display_data"
    }
   ],
   "source": [
    "attendance = [\n",
    "    110,\n",
    "    20,\n",
    "    30,\n",
    "    42,\n",
    "    97,\n",
    "    90,\n",
    "    58]\n",
    "\n",
    "plt.pie(attendance, labels=hubs)\n",
    "\n",
    "total_participants = np.sum(attendance)\n",
    "print(\"Total participants:\", total_participants)\n",
    "total_in_person = total_participants - attendance[0]\n",
    "print(\"Total in-person participants:\", total_in_person)"
   ]
  },
  {
   "cell_type": "markdown",
   "id": "99ba4793",
   "metadata": {},
   "source": [
    "At first, we'll try a naive approach not taking final hub attendance into account, and simply draw 447 people from the Australian population."
   ]
  },
  {
   "cell_type": "code",
   "execution_count": 33,
   "id": "593d87e9",
   "metadata": {},
   "outputs": [
    {
     "name": "stderr",
     "output_type": "stream",
     "text": [
      "<ipython-input-5-8ac290c5f899>:4: DeprecationWarning: Right multiplication will be prohibited in version 3.0\n",
      "  lon_abs, lat_abs = (x, y) * abs_pop_read.transform\n",
      "<ipython-input-5-8ac290c5f899>:5: DeprecationWarning: This function is deprecated. See: https://pyproj4.github.io/pyproj/stable/gotchas.html#upgrading-to-pyproj-2-from-pyproj-1\n",
      "  lons, lats = pyproj.transform(abs_proj, glob_proj, lon_abs, lat_abs)\n"
     ]
    },
    {
     "data": {
      "text/plain": [
       "<matplotlib.collections.PathCollection at 0x7f860edce3a0>"
      ]
     },
     "execution_count": 33,
     "metadata": {},
     "output_type": "execute_result"
    },
    {
     "data": {
      "image/png": "[encoded data removed]",
      "text/plain": [
       "<Figure size 432x288 with 1 Axes>"
      ]
     },
     "metadata": {
      "needs_background": "light"
     },
     "output_type": "display_data"
    }
   ],
   "source": [
    "xs, ys = draw_from_population(total_in_person)\n",
    "lons, lats = pixel_to_lonlat(xs, ys)\n",
    "plt.scatter(lons, lats)"
   ]
  },
  {
   "cell_type": "code",
   "execution_count": 34,
   "id": "51d729a2",
   "metadata": {},
   "outputs": [
    {
     "name": "stderr",
     "output_type": "stream",
     "text": [
      "<ipython-input-5-8ac290c5f899>:4: DeprecationWarning: Right multiplication will be prohibited in version 3.0\n",
      "  lon_abs, lat_abs = (x, y) * abs_pop_read.transform\n",
      "<ipython-input-5-8ac290c5f899>:5: DeprecationWarning: This function is deprecated. See: https://pyproj4.github.io/pyproj/stable/gotchas.html#upgrading-to-pyproj-2-from-pyproj-1\n",
      "  lons, lats = pyproj.transform(abs_proj, glob_proj, lon_abs, lat_abs)\n"
     ]
    },
    {
     "name": "stdout",
     "output_type": "stream",
     "text": [
      "Total carbon savings for the hub model are [29326.25298712] kg\n"
     ]
    },
    {
     "data": {
      "text/plain": [
       "([<matplotlib.patches.Wedge at 0x7f860eda3670>,\n",
       "  <matplotlib.patches.Wedge at 0x7f860eda3b50>,\n",
       "  <matplotlib.patches.Wedge at 0x7f860eda3fd0>,\n",
       "  <matplotlib.patches.Wedge at 0x7f860edb0490>,\n",
       "  <matplotlib.patches.Wedge at 0x7f860edb0910>,\n",
       "  <matplotlib.patches.Wedge at 0x7f860edb0d90>,\n",
       "  <matplotlib.patches.Wedge at 0x7f860edbd250>],\n",
       " [Text(0.7873249816504768, 0.7681922762362796, 'online'),\n",
       "  Text(-0.16558449344608986, 1.0874657583253837, 'adelaide'),\n",
       "  Text(-0.9138104811838688, 0.6123319397830774, 'brisbane'),\n",
       "  Text(-1.0843886581596227, -0.18466520531700928, 'canberra'),\n",
       "  Text(-0.7139517925146047, -0.8368230625198991, 'melbourne'),\n",
       "  Text(0.18847471262949597, -1.0837330311009392, 'perth'),\n",
       "  Text(0.9347597589562907, -0.5798484224657141, 'sydney')])"
      ]
     },
     "execution_count": 34,
     "metadata": {},
     "output_type": "execute_result"
    },
    {
     "data": {
      "image/png": "[encoded data removed]",
      "text/plain": [
       "<Figure size 432x288 with 1 Axes>"
      ]
     },
     "metadata": {},
     "output_type": "display_data"
    }
   ],
   "source": [
    "nearest_hubs = np.zeros(len(hubs))\n",
    "total_carbon_hub = un.Quantity([0 * un.kg])\n",
    "total_carbon_melbourne = un.Quantity([0 * un.kg])\n",
    "\n",
    "for i in range(len(xs)):\n",
    "    x = xs[i]\n",
    "    y = ys[i]\n",
    "    total, hub_index = total_carbon(x, y, hub = True, verbose = False)\n",
    "    total_carbon_hub += total\n",
    "    nearest_hubs[hub_index] += 1\n",
    "    total, _ = total_carbon(x, y, hub = False, verbose = False)\n",
    "    total_carbon_melbourne += total\n",
    "    \n",
    "nearest_hubs[0] = attendance[0]\n",
    "print(\"Total carbon savings for the hub model are\", total_carbon_melbourne - total_carbon_hub)\n",
    "plt.pie(nearest_hubs, labels=hubs)"
   ]
  },
  {
   "cell_type": "markdown",
   "id": "fce3314d",
   "metadata": {},
   "source": [
    "I've calculated the above pie chart to show that this approach roughly reproduces the attendance per hub (although not perfectly). However, if we do want to be closer to the actual hub attendance numbers, we can do something like this (the below cell will take quite a while to run fully, and it will take longer the closer it gets to the goal, but have faith):"
   ]
  },
  {
   "cell_type": "code",
   "execution_count": 35,
   "id": "8db9c12a",
   "metadata": {},
   "outputs": [
    {
     "name": "stderr",
     "output_type": "stream",
     "text": [
      "<ipython-input-5-8ac290c5f899>:4: DeprecationWarning: Right multiplication will be prohibited in version 3.0\n",
      "  lon_abs, lat_abs = (x, y) * abs_pop_read.transform\n",
      "<ipython-input-5-8ac290c5f899>:5: DeprecationWarning: This function is deprecated. See: https://pyproj4.github.io/pyproj/stable/gotchas.html#upgrading-to-pyproj-2-from-pyproj-1\n",
      "  lons, lats = pyproj.transform(abs_proj, glob_proj, lon_abs, lat_abs)\n"
     ]
    },
    {
     "name": "stdout",
     "output_type": "stream",
     "text": [
      "Participants found: 111.0\n",
      "Participants found: 112.0\n",
      "Participants found: 113.0\n",
      "Participants found: 114.0\n",
      "Participants found: 115.0\n",
      "Participants found: 116.0\n",
      "Participants found: 117.0\n",
      "Participants found: 118.0\n",
      "Participants found: 119.0\n",
      "Participants found: 120.0\n",
      "Participants found: 121.0\n",
      "Participants found: 122.0\n",
      "Participants found: 123.0\n",
      "Participants found: 124.0\n",
      "Participants found: 125.0\n",
      "Participants found: 126.0\n",
      "Participants found: 127.0\n",
      "Participants found: 128.0\n",
      "Participants found: 129.0\n",
      "Participants found: 130.0\n",
      "Participants found: 131.0\n",
      "Participants found: 132.0\n",
      "Participants found: 133.0\n",
      "Participants found: 134.0\n",
      "Participants found: 135.0\n",
      "Participants found: 136.0\n",
      "Participants found: 137.0\n",
      "Participants found: 138.0\n",
      "Participants found: 139.0\n",
      "Participants found: 140.0\n",
      "Participants found: 141.0\n",
      "Participants found: 142.0\n",
      "Participants found: 143.0\n",
      "Participants found: 144.0\n",
      "Participants found: 145.0\n",
      "Participants found: 146.0\n",
      "Participants found: 147.0\n",
      "Participants found: 148.0\n",
      "Participants found: 149.0\n",
      "Participants found: 150.0\n",
      "Participants found: 151.0\n",
      "Participants found: 152.0\n",
      "Participants found: 153.0\n",
      "Participants found: 154.0\n",
      "Participants found: 155.0\n",
      "Participants found: 156.0\n",
      "Participants found: 157.0\n",
      "Participants found: 158.0\n",
      "Participants found: 159.0\n",
      "Participants found: 160.0\n",
      "Participants found: 161.0\n",
      "Participants found: 162.0\n",
      "Participants found: 163.0\n",
      "Participants found: 164.0\n",
      "Participants found: 165.0\n",
      "Participants found: 166.0\n",
      "Participants found: 167.0\n",
      "Participants found: 168.0\n",
      "Participants found: 169.0\n",
      "Participants found: 170.0\n",
      "Participants found: 171.0\n",
      "Participants found: 172.0\n",
      "Participants found: 173.0\n",
      "Participants found: 174.0\n",
      "Participants found: 175.0\n",
      "Participants found: 176.0\n",
      "Participants found: 177.0\n",
      "Participants found: 178.0\n",
      "Participants found: 179.0\n",
      "Participants found: 180.0\n",
      "Participants found: 181.0\n",
      "Participants found: 182.0\n",
      "Participants found: 183.0\n",
      "Participants found: 184.0\n",
      "Participants found: 185.0\n",
      "Participants found: 186.0\n",
      "Participants found: 187.0\n",
      "Participants found: 188.0\n",
      "Participants found: 189.0\n",
      "Participants found: 190.0\n",
      "Participants found: 191.0\n",
      "Participants found: 192.0\n",
      "Participants found: 193.0\n",
      "Participants found: 194.0\n",
      "Participants found: 195.0\n",
      "Participants found: 196.0\n",
      "Participants found: 197.0\n",
      "Participants found: 198.0\n",
      "Participants found: 199.0\n",
      "Participants found: 200.0\n",
      "Participants found: 201.0\n",
      "Participants found: 202.0\n",
      "Participants found: 203.0\n",
      "Participants found: 204.0\n",
      "Participants found: 205.0\n",
      "Participants found: 206.0\n",
      "Participants found: 207.0\n",
      "Participants found: 208.0\n",
      "Participants found: 209.0\n",
      "Participants found: 210.0\n",
      "Participants found: 211.0\n",
      "Participants found: 212.0\n",
      "Participants found: 213.0\n",
      "Participants found: 214.0\n",
      "Participants found: 215.0\n",
      "Participants found: 216.0\n",
      "Participants found: 217.0\n",
      "Participants found: 218.0\n",
      "Participants found: 219.0\n",
      "Participants found: 220.0\n",
      "Participants found: 221.0\n",
      "Participants found: 222.0\n",
      "Participants found: 223.0\n",
      "Participants found: 224.0\n",
      "Participants found: 225.0\n",
      "Participants found: 226.0\n",
      "Participants found: 227.0\n",
      "Participants found: 228.0\n",
      "Participants found: 229.0\n",
      "Participants found: 230.0\n",
      "Participants found: 231.0\n",
      "Participants found: 232.0\n",
      "Participants found: 233.0\n",
      "Participants found: 234.0\n",
      "Participants found: 235.0\n",
      "Participants found: 236.0\n",
      "Participants found: 237.0\n",
      "Participants found: 238.0\n",
      "Participants found: 239.0\n",
      "Participants found: 240.0\n",
      "Participants found: 241.0\n",
      "Participants found: 242.0\n",
      "Participants found: 243.0\n",
      "Participants found: 244.0\n",
      "Participants found: 245.0\n",
      "Participants found: 246.0\n",
      "Participants found: 247.0\n",
      "Participants found: 248.0\n",
      "Participants found: 249.0\n",
      "Participants found: 250.0\n",
      "Participants found: 251.0\n",
      "Participants found: 252.0\n",
      "Participants found: 253.0\n",
      "Participants found: 254.0\n",
      "Participants found: 255.0\n",
      "Participants found: 256.0\n",
      "Participants found: 257.0\n",
      "Participants found: 258.0\n",
      "Participants found: 259.0\n",
      "Participants found: 260.0\n",
      "Participants found: 261.0\n",
      "Participants found: 262.0\n",
      "Participants found: 263.0\n",
      "Participants found: 264.0\n",
      "Participants found: 265.0\n",
      "Participants found: 266.0\n",
      "Participants found: 267.0\n",
      "Participants found: 268.0\n",
      "Participants found: 269.0\n",
      "Participants found: 270.0\n",
      "Participants found: 270.0\n",
      "Participants found: 271.0\n",
      "Participants found: 272.0\n",
      "Participants found: 272.0\n",
      "Participants found: 273.0\n",
      "Participants found: 274.0\n",
      "Participants found: 275.0\n",
      "Participants found: 276.0\n",
      "Participants found: 277.0\n",
      "Participants found: 277.0\n",
      "Participants found: 278.0\n",
      "Participants found: 279.0\n",
      "Participants found: 280.0\n",
      "Participants found: 281.0\n",
      "Participants found: 282.0\n",
      "Participants found: 283.0\n",
      "Participants found: 284.0\n",
      "Participants found: 284.0\n",
      "Participants found: 284.0\n",
      "Participants found: 284.0\n",
      "Participants found: 284.0\n",
      "Participants found: 285.0\n",
      "Participants found: 286.0\n",
      "Participants found: 287.0\n",
      "Participants found: 288.0\n",
      "Participants found: 288.0\n",
      "Participants found: 289.0\n",
      "Participants found: 290.0\n",
      "Participants found: 291.0\n",
      "Participants found: 292.0\n",
      "Participants found: 293.0\n",
      "Participants found: 294.0\n",
      "Participants found: 295.0\n",
      "Participants found: 296.0\n",
      "Participants found: 297.0\n",
      "Participants found: 297.0\n",
      "Participants found: 298.0\n",
      "Participants found: 299.0\n",
      "Participants found: 300.0\n",
      "Participants found: 301.0\n",
      "Participants found: 302.0\n",
      "Participants found: 303.0\n",
      "Participants found: 303.0\n",
      "Participants found: 303.0\n",
      "Participants found: 303.0\n",
      "Participants found: 304.0\n",
      "Participants found: 305.0\n",
      "Participants found: 306.0\n",
      "Participants found: 307.0\n",
      "Participants found: 307.0\n",
      "Participants found: 308.0\n",
      "Participants found: 309.0\n",
      "Participants found: 310.0\n",
      "Participants found: 311.0\n",
      "Participants found: 312.0\n",
      "Participants found: 313.0\n",
      "Participants found: 313.0\n",
      "Participants found: 314.0\n",
      "Participants found: 314.0\n",
      "Participants found: 314.0\n",
      "Participants found: 314.0\n",
      "Participants found: 314.0\n",
      "Participants found: 315.0\n",
      "Participants found: 316.0\n",
      "Participants found: 316.0\n",
      "Participants found: 316.0\n",
      "Participants found: 317.0\n",
      "Participants found: 317.0\n",
      "Participants found: 317.0\n",
      "Participants found: 318.0\n",
      "Participants found: 318.0\n",
      "Participants found: 319.0\n",
      "Participants found: 320.0\n",
      "Participants found: 320.0\n",
      "Participants found: 321.0\n",
      "Participants found: 321.0\n",
      "Participants found: 322.0\n",
      "Participants found: 322.0\n",
      "Participants found: 322.0\n",
      "Participants found: 322.0\n",
      "Participants found: 323.0\n",
      "Participants found: 324.0\n",
      "Participants found: 324.0\n",
      "Participants found: 325.0\n",
      "Participants found: 326.0\n",
      "Participants found: 326.0\n",
      "Participants found: 327.0\n",
      "Participants found: 327.0\n",
      "Participants found: 328.0\n",
      "Participants found: 329.0\n",
      "Participants found: 329.0\n",
      "Participants found: 330.0\n",
      "Participants found: 330.0\n",
      "Participants found: 331.0\n",
      "Participants found: 332.0\n",
      "Participants found: 332.0\n",
      "Participants found: 332.0\n",
      "Participants found: 332.0\n",
      "Participants found: 333.0\n",
      "Participants found: 333.0\n",
      "Participants found: 334.0\n",
      "Participants found: 334.0\n",
      "Participants found: 334.0\n",
      "Participants found: 335.0\n",
      "Participants found: 336.0\n",
      "Participants found: 336.0\n",
      "Participants found: 336.0\n",
      "Participants found: 336.0\n",
      "Participants found: 337.0\n",
      "Participants found: 338.0\n",
      "Participants found: 339.0\n",
      "Participants found: 339.0\n",
      "Participants found: 339.0\n",
      "Participants found: 340.0\n",
      "Participants found: 340.0\n",
      "Participants found: 341.0\n",
      "Participants found: 342.0\n",
      "Participants found: 343.0\n",
      "Participants found: 344.0\n",
      "Participants found: 345.0\n",
      "Participants found: 345.0\n",
      "Participants found: 346.0\n",
      "Participants found: 346.0\n",
      "Participants found: 346.0\n",
      "Participants found: 346.0\n",
      "Participants found: 346.0\n",
      "Participants found: 346.0\n",
      "Participants found: 346.0\n",
      "Participants found: 347.0\n",
      "Participants found: 348.0\n",
      "Participants found: 348.0\n",
      "Participants found: 348.0\n",
      "Participants found: 349.0\n",
      "Participants found: 349.0\n",
      "Participants found: 349.0\n",
      "Participants found: 349.0\n",
      "Participants found: 350.0\n",
      "Participants found: 350.0\n",
      "Participants found: 350.0\n",
      "Participants found: 350.0\n",
      "Participants found: 351.0\n",
      "Participants found: 351.0\n",
      "Participants found: 351.0\n",
      "Participants found: 351.0\n",
      "Participants found: 352.0\n",
      "Participants found: 352.0\n",
      "Participants found: 353.0\n",
      "Participants found: 353.0\n",
      "Participants found: 353.0\n",
      "Participants found: 354.0\n",
      "Participants found: 355.0\n",
      "Participants found: 355.0\n",
      "Participants found: 355.0\n",
      "Participants found: 355.0\n",
      "Participants found: 356.0\n",
      "Participants found: 356.0\n"
     ]
    },
    {
     "name": "stdout",
     "output_type": "stream",
     "text": [
      "Participants found: 356.0\n",
      "Participants found: 357.0\n",
      "Participants found: 357.0\n",
      "Participants found: 357.0\n",
      "Participants found: 357.0\n",
      "Participants found: 357.0\n",
      "Participants found: 357.0\n",
      "Participants found: 357.0\n",
      "Participants found: 358.0\n",
      "Participants found: 358.0\n",
      "Participants found: 358.0\n",
      "Participants found: 358.0\n",
      "Participants found: 358.0\n",
      "Participants found: 358.0\n",
      "Participants found: 358.0\n",
      "Participants found: 358.0\n",
      "Participants found: 358.0\n",
      "Participants found: 358.0\n",
      "Participants found: 359.0\n",
      "Participants found: 359.0\n",
      "Participants found: 360.0\n",
      "Participants found: 360.0\n",
      "Participants found: 360.0\n",
      "Participants found: 361.0\n",
      "Participants found: 362.0\n",
      "Participants found: 362.0\n",
      "Participants found: 362.0\n",
      "Participants found: 362.0\n",
      "Participants found: 362.0\n",
      "Participants found: 362.0\n",
      "Participants found: 362.0\n",
      "Participants found: 362.0\n",
      "Participants found: 362.0\n",
      "Participants found: 362.0\n",
      "Participants found: 362.0\n",
      "Participants found: 363.0\n",
      "Participants found: 364.0\n",
      "Participants found: 364.0\n",
      "Participants found: 364.0\n",
      "Participants found: 364.0\n",
      "Participants found: 364.0\n",
      "Participants found: 364.0\n",
      "Participants found: 364.0\n",
      "Participants found: 364.0\n",
      "Participants found: 365.0\n",
      "Participants found: 365.0\n",
      "Participants found: 365.0\n",
      "Participants found: 365.0\n",
      "Participants found: 365.0\n",
      "Participants found: 365.0\n",
      "Participants found: 365.0\n",
      "Participants found: 365.0\n",
      "Participants found: 365.0\n",
      "Participants found: 365.0\n",
      "Participants found: 365.0\n",
      "Participants found: 365.0\n",
      "Participants found: 365.0\n",
      "Participants found: 365.0\n",
      "Participants found: 365.0\n",
      "Participants found: 365.0\n",
      "Participants found: 365.0\n",
      "Participants found: 365.0\n",
      "Participants found: 366.0\n",
      "Participants found: 366.0\n",
      "Participants found: 366.0\n",
      "Participants found: 366.0\n",
      "Participants found: 366.0\n",
      "Participants found: 367.0\n",
      "Participants found: 367.0\n",
      "Participants found: 368.0\n",
      "Participants found: 368.0\n",
      "Participants found: 368.0\n",
      "Participants found: 369.0\n",
      "Participants found: 369.0\n",
      "Participants found: 369.0\n",
      "Participants found: 369.0\n",
      "Participants found: 369.0\n",
      "Participants found: 369.0\n",
      "Participants found: 370.0\n",
      "Participants found: 370.0\n",
      "Participants found: 370.0\n",
      "Participants found: 370.0\n",
      "Participants found: 371.0\n",
      "Participants found: 371.0\n",
      "Participants found: 371.0\n",
      "Participants found: 371.0\n",
      "Participants found: 371.0\n",
      "Participants found: 372.0\n",
      "Participants found: 373.0\n",
      "Participants found: 373.0\n",
      "Participants found: 373.0\n",
      "Participants found: 373.0\n",
      "Participants found: 373.0\n",
      "Participants found: 373.0\n",
      "Participants found: 373.0\n",
      "Participants found: 374.0\n",
      "Participants found: 374.0\n",
      "Participants found: 374.0\n",
      "Participants found: 374.0\n",
      "Participants found: 374.0\n",
      "Participants found: 374.0\n",
      "Participants found: 374.0\n",
      "Participants found: 374.0\n",
      "Participants found: 374.0\n",
      "Participants found: 374.0\n",
      "Participants found: 375.0\n",
      "Participants found: 375.0\n",
      "Participants found: 375.0\n",
      "Participants found: 375.0\n",
      "Participants found: 375.0\n",
      "Participants found: 375.0\n",
      "Participants found: 375.0\n",
      "Participants found: 375.0\n",
      "Participants found: 375.0\n",
      "Participants found: 376.0\n",
      "Participants found: 376.0\n",
      "Participants found: 377.0\n",
      "Participants found: 377.0\n",
      "Participants found: 377.0\n",
      "Participants found: 377.0\n",
      "Participants found: 377.0\n",
      "Participants found: 377.0\n",
      "Participants found: 377.0\n",
      "Participants found: 377.0\n",
      "Participants found: 377.0\n",
      "Participants found: 377.0\n",
      "Participants found: 377.0\n",
      "Participants found: 377.0\n",
      "Participants found: 377.0\n",
      "Participants found: 377.0\n",
      "Participants found: 377.0\n",
      "Participants found: 377.0\n",
      "Participants found: 377.0\n",
      "Participants found: 377.0\n",
      "Participants found: 377.0\n",
      "Participants found: 377.0\n",
      "Participants found: 377.0\n",
      "Participants found: 377.0\n",
      "Participants found: 377.0\n",
      "Participants found: 378.0\n",
      "Participants found: 378.0\n",
      "Participants found: 379.0\n",
      "Participants found: 379.0\n",
      "Participants found: 379.0\n",
      "Participants found: 379.0\n",
      "Participants found: 379.0\n",
      "Participants found: 379.0\n",
      "Participants found: 379.0\n",
      "Participants found: 380.0\n",
      "Participants found: 380.0\n",
      "Participants found: 380.0\n",
      "Participants found: 380.0\n",
      "Participants found: 381.0\n",
      "Participants found: 381.0\n",
      "Participants found: 381.0\n",
      "Participants found: 381.0\n",
      "Participants found: 381.0\n",
      "Participants found: 382.0\n",
      "Participants found: 382.0\n",
      "Participants found: 382.0\n",
      "Participants found: 382.0\n",
      "Participants found: 382.0\n",
      "Participants found: 382.0\n",
      "Participants found: 383.0\n",
      "Participants found: 383.0\n",
      "Participants found: 383.0\n",
      "Participants found: 383.0\n",
      "Participants found: 383.0\n",
      "Participants found: 383.0\n",
      "Participants found: 383.0\n",
      "Participants found: 383.0\n",
      "Participants found: 383.0\n",
      "Participants found: 383.0\n",
      "Participants found: 383.0\n",
      "Participants found: 383.0\n",
      "Participants found: 383.0\n",
      "Participants found: 383.0\n",
      "Participants found: 383.0\n",
      "Participants found: 383.0\n",
      "Participants found: 383.0\n",
      "Participants found: 383.0\n",
      "Participants found: 383.0\n",
      "Participants found: 383.0\n",
      "Participants found: 383.0\n",
      "Participants found: 383.0\n",
      "Participants found: 383.0\n",
      "Participants found: 384.0\n",
      "Participants found: 384.0\n",
      "Participants found: 384.0\n",
      "Participants found: 384.0\n",
      "Participants found: 385.0\n",
      "Participants found: 385.0\n",
      "Participants found: 386.0\n",
      "Participants found: 386.0\n",
      "Participants found: 386.0\n",
      "Participants found: 386.0\n",
      "Participants found: 387.0\n",
      "Participants found: 387.0\n",
      "Participants found: 387.0\n",
      "Participants found: 387.0\n",
      "Participants found: 388.0\n",
      "Participants found: 388.0\n",
      "Participants found: 388.0\n",
      "Participants found: 388.0\n",
      "Participants found: 388.0\n",
      "Participants found: 388.0\n",
      "Participants found: 388.0\n",
      "Participants found: 388.0\n",
      "Participants found: 388.0\n",
      "Participants found: 389.0\n",
      "Participants found: 389.0\n",
      "Participants found: 390.0\n",
      "Participants found: 390.0\n",
      "Participants found: 390.0\n",
      "Participants found: 390.0\n",
      "Participants found: 390.0\n",
      "Participants found: 390.0\n",
      "Participants found: 390.0\n",
      "Participants found: 390.0\n",
      "Participants found: 390.0\n",
      "Participants found: 390.0\n",
      "Participants found: 390.0\n",
      "Participants found: 390.0\n",
      "Participants found: 390.0\n",
      "Participants found: 390.0\n",
      "Participants found: 390.0\n",
      "Participants found: 390.0\n",
      "Participants found: 390.0\n",
      "Participants found: 390.0\n",
      "Participants found: 390.0\n",
      "Participants found: 390.0\n",
      "Participants found: 390.0\n",
      "Participants found: 390.0\n",
      "Participants found: 390.0\n",
      "Participants found: 390.0\n",
      "Participants found: 390.0\n",
      "Participants found: 390.0\n",
      "Participants found: 390.0\n",
      "Participants found: 391.0\n",
      "Participants found: 392.0\n",
      "Participants found: 392.0\n",
      "Participants found: 392.0\n",
      "Participants found: 393.0\n",
      "Participants found: 393.0\n",
      "Participants found: 393.0\n",
      "Participants found: 393.0\n",
      "Participants found: 393.0\n",
      "Participants found: 393.0\n",
      "Participants found: 393.0\n",
      "Participants found: 393.0\n",
      "Participants found: 394.0\n",
      "Participants found: 394.0\n",
      "Participants found: 394.0\n",
      "Participants found: 395.0\n",
      "Participants found: 395.0\n",
      "Participants found: 395.0\n",
      "Participants found: 395.0\n",
      "Participants found: 395.0\n",
      "Participants found: 395.0\n",
      "Participants found: 396.0\n",
      "Participants found: 396.0\n",
      "Participants found: 397.0\n",
      "Participants found: 397.0\n",
      "Participants found: 397.0\n",
      "Participants found: 397.0\n",
      "Participants found: 397.0\n",
      "Participants found: 397.0\n",
      "Participants found: 397.0\n",
      "Participants found: 397.0\n",
      "Participants found: 397.0\n",
      "Participants found: 397.0\n",
      "Participants found: 397.0\n",
      "Participants found: 397.0\n",
      "Participants found: 397.0\n",
      "Participants found: 397.0\n",
      "Participants found: 397.0\n",
      "Participants found: 397.0\n",
      "Participants found: 397.0\n",
      "Participants found: 397.0\n",
      "Participants found: 397.0\n",
      "Participants found: 397.0\n",
      "Participants found: 397.0\n",
      "Participants found: 397.0\n",
      "Participants found: 397.0\n",
      "Participants found: 397.0\n",
      "Participants found: 397.0\n",
      "Participants found: 397.0\n",
      "Participants found: 397.0\n",
      "Participants found: 397.0\n",
      "Participants found: 397.0\n",
      "Participants found: 397.0\n",
      "Participants found: 397.0\n",
      "Participants found: 397.0\n",
      "Participants found: 397.0\n",
      "Participants found: 398.0\n",
      "Participants found: 398.0\n",
      "Participants found: 399.0\n",
      "Participants found: 399.0\n",
      "Participants found: 400.0\n",
      "Participants found: 400.0\n",
      "Participants found: 400.0\n",
      "Participants found: 400.0\n",
      "Participants found: 400.0\n",
      "Participants found: 401.0\n",
      "Participants found: 401.0\n",
      "Participants found: 401.0\n",
      "Participants found: 401.0\n",
      "Participants found: 401.0\n",
      "Participants found: 401.0\n",
      "Participants found: 401.0\n",
      "Participants found: 402.0\n",
      "Participants found: 402.0\n",
      "Participants found: 402.0\n",
      "Participants found: 402.0\n",
      "Participants found: 403.0\n",
      "Participants found: 403.0\n"
     ]
    },
    {
     "name": "stdout",
     "output_type": "stream",
     "text": [
      "Participants found: 403.0\n",
      "Participants found: 403.0\n",
      "Participants found: 403.0\n",
      "Participants found: 403.0\n",
      "Participants found: 403.0\n",
      "Participants found: 403.0\n",
      "Participants found: 403.0\n",
      "Participants found: 404.0\n",
      "Participants found: 404.0\n",
      "Participants found: 404.0\n",
      "Participants found: 404.0\n",
      "Participants found: 404.0\n",
      "Participants found: 404.0\n",
      "Participants found: 404.0\n",
      "Participants found: 404.0\n",
      "Participants found: 404.0\n",
      "Participants found: 404.0\n",
      "Participants found: 404.0\n",
      "Participants found: 405.0\n",
      "Participants found: 405.0\n",
      "Participants found: 405.0\n",
      "Participants found: 406.0\n",
      "Participants found: 406.0\n",
      "Participants found: 406.0\n",
      "Participants found: 406.0\n",
      "Participants found: 406.0\n",
      "Participants found: 406.0\n",
      "Participants found: 406.0\n",
      "Participants found: 406.0\n",
      "Participants found: 406.0\n",
      "Participants found: 406.0\n",
      "Participants found: 406.0\n",
      "Participants found: 406.0\n",
      "Participants found: 406.0\n",
      "Participants found: 406.0\n",
      "Participants found: 406.0\n",
      "Participants found: 406.0\n",
      "Participants found: 406.0\n",
      "Participants found: 407.0\n",
      "Participants found: 407.0\n",
      "Participants found: 407.0\n",
      "Participants found: 407.0\n",
      "Participants found: 407.0\n",
      "Participants found: 408.0\n",
      "Participants found: 408.0\n",
      "Participants found: 408.0\n",
      "Participants found: 408.0\n",
      "Participants found: 408.0\n",
      "Participants found: 408.0\n",
      "Participants found: 409.0\n",
      "Participants found: 409.0\n",
      "Participants found: 409.0\n",
      "Participants found: 409.0\n",
      "Participants found: 409.0\n",
      "Participants found: 409.0\n",
      "Participants found: 409.0\n",
      "Participants found: 410.0\n",
      "Participants found: 410.0\n",
      "Participants found: 410.0\n",
      "Participants found: 410.0\n",
      "Participants found: 410.0\n",
      "Participants found: 410.0\n",
      "Participants found: 410.0\n",
      "Participants found: 410.0\n",
      "Participants found: 410.0\n",
      "Participants found: 410.0\n",
      "Participants found: 410.0\n",
      "Participants found: 410.0\n",
      "Participants found: 410.0\n",
      "Participants found: 410.0\n",
      "Participants found: 410.0\n",
      "Participants found: 410.0\n",
      "Participants found: 410.0\n",
      "Participants found: 410.0\n",
      "Participants found: 410.0\n",
      "Participants found: 410.0\n",
      "Participants found: 410.0\n",
      "Participants found: 410.0\n",
      "Participants found: 410.0\n",
      "Participants found: 410.0\n",
      "Participants found: 410.0\n",
      "Participants found: 410.0\n",
      "Participants found: 410.0\n",
      "Participants found: 410.0\n",
      "Participants found: 410.0\n",
      "Participants found: 410.0\n",
      "Participants found: 410.0\n",
      "Participants found: 410.0\n",
      "Participants found: 410.0\n",
      "Participants found: 410.0\n",
      "Participants found: 410.0\n",
      "Participants found: 410.0\n",
      "Participants found: 410.0\n",
      "Participants found: 410.0\n",
      "Participants found: 410.0\n",
      "Participants found: 410.0\n",
      "Participants found: 411.0\n",
      "Participants found: 411.0\n",
      "Participants found: 411.0\n",
      "Participants found: 411.0\n",
      "Participants found: 411.0\n",
      "Participants found: 411.0\n",
      "Participants found: 411.0\n",
      "Participants found: 411.0\n",
      "Participants found: 411.0\n",
      "Participants found: 411.0\n",
      "Participants found: 412.0\n",
      "Participants found: 412.0\n",
      "Participants found: 412.0\n",
      "Participants found: 412.0\n",
      "Participants found: 412.0\n",
      "Participants found: 412.0\n",
      "Participants found: 412.0\n",
      "Participants found: 412.0\n",
      "Participants found: 412.0\n",
      "Participants found: 413.0\n",
      "Participants found: 413.0\n",
      "Participants found: 413.0\n",
      "Participants found: 413.0\n",
      "Participants found: 413.0\n",
      "Participants found: 414.0\n",
      "Participants found: 414.0\n",
      "Participants found: 414.0\n",
      "Participants found: 414.0\n",
      "Participants found: 414.0\n",
      "Participants found: 414.0\n",
      "Participants found: 414.0\n",
      "Participants found: 414.0\n",
      "Participants found: 414.0\n",
      "Participants found: 414.0\n",
      "Participants found: 415.0\n",
      "Participants found: 415.0\n",
      "Participants found: 415.0\n",
      "Participants found: 416.0\n",
      "Participants found: 416.0\n",
      "Participants found: 417.0\n",
      "Participants found: 417.0\n",
      "Participants found: 417.0\n",
      "Participants found: 417.0\n",
      "Participants found: 418.0\n",
      "Participants found: 418.0\n",
      "Participants found: 418.0\n",
      "Participants found: 418.0\n",
      "Participants found: 418.0\n",
      "Participants found: 418.0\n",
      "Participants found: 419.0\n",
      "Participants found: 419.0\n",
      "Participants found: 419.0\n",
      "Participants found: 419.0\n",
      "Participants found: 419.0\n",
      "Participants found: 419.0\n",
      "Participants found: 419.0\n",
      "Participants found: 419.0\n",
      "Participants found: 419.0\n",
      "Participants found: 419.0\n",
      "Participants found: 419.0\n",
      "Participants found: 419.0\n",
      "Participants found: 419.0\n",
      "Participants found: 419.0\n",
      "Participants found: 419.0\n",
      "Participants found: 419.0\n",
      "Participants found: 419.0\n",
      "Participants found: 419.0\n",
      "Participants found: 419.0\n",
      "Participants found: 419.0\n",
      "Participants found: 419.0\n",
      "Participants found: 419.0\n",
      "Participants found: 419.0\n",
      "Participants found: 419.0\n",
      "Participants found: 419.0\n",
      "Participants found: 419.0\n",
      "Participants found: 419.0\n",
      "Participants found: 419.0\n",
      "Participants found: 419.0\n",
      "Participants found: 420.0\n",
      "Participants found: 420.0\n",
      "Participants found: 420.0\n",
      "Participants found: 420.0\n",
      "Participants found: 420.0\n",
      "Participants found: 420.0\n",
      "Participants found: 420.0\n",
      "Participants found: 420.0\n",
      "Participants found: 420.0\n",
      "Participants found: 420.0\n",
      "Participants found: 420.0\n",
      "Participants found: 420.0\n",
      "Participants found: 420.0\n",
      "Participants found: 420.0\n",
      "Participants found: 420.0\n",
      "Participants found: 420.0\n",
      "Participants found: 420.0\n",
      "Participants found: 420.0\n",
      "Participants found: 420.0\n",
      "Participants found: 421.0\n",
      "Participants found: 421.0\n",
      "Participants found: 421.0\n",
      "Participants found: 421.0\n",
      "Participants found: 421.0\n",
      "Participants found: 422.0\n",
      "Participants found: 422.0\n",
      "Participants found: 422.0\n",
      "Participants found: 422.0\n",
      "Participants found: 422.0\n",
      "Participants found: 422.0\n",
      "Participants found: 422.0\n",
      "Participants found: 422.0\n",
      "Participants found: 423.0\n",
      "Participants found: 423.0\n",
      "Participants found: 423.0\n",
      "Participants found: 423.0\n",
      "Participants found: 423.0\n",
      "Participants found: 423.0\n",
      "Participants found: 423.0\n",
      "Participants found: 423.0\n",
      "Participants found: 423.0\n",
      "Participants found: 423.0\n",
      "Participants found: 423.0\n",
      "Participants found: 423.0\n",
      "Participants found: 423.0\n",
      "Participants found: 423.0\n",
      "Participants found: 423.0\n",
      "Participants found: 423.0\n",
      "Participants found: 423.0\n",
      "Participants found: 423.0\n",
      "Participants found: 423.0\n",
      "Participants found: 424.0\n",
      "Participants found: 424.0\n",
      "Participants found: 424.0\n",
      "Participants found: 424.0\n",
      "Participants found: 425.0\n",
      "Participants found: 425.0\n",
      "Participants found: 425.0\n",
      "Participants found: 426.0\n",
      "Participants found: 426.0\n",
      "Participants found: 427.0\n",
      "Participants found: 427.0\n",
      "Participants found: 427.0\n",
      "Participants found: 427.0\n",
      "Participants found: 427.0\n",
      "Participants found: 427.0\n",
      "Participants found: 427.0\n",
      "Participants found: 427.0\n",
      "Participants found: 427.0\n",
      "Participants found: 427.0\n",
      "Participants found: 427.0\n",
      "Participants found: 427.0\n",
      "Participants found: 427.0\n",
      "Participants found: 427.0\n",
      "Participants found: 427.0\n",
      "Participants found: 427.0\n",
      "Participants found: 427.0\n",
      "Participants found: 427.0\n",
      "Participants found: 427.0\n",
      "Participants found: 427.0\n",
      "Participants found: 427.0\n",
      "Participants found: 427.0\n",
      "Participants found: 427.0\n",
      "Participants found: 427.0\n",
      "Participants found: 427.0\n",
      "Participants found: 427.0\n",
      "Participants found: 427.0\n",
      "Participants found: 428.0\n",
      "Participants found: 429.0\n",
      "Participants found: 429.0\n",
      "Participants found: 429.0\n",
      "Participants found: 429.0\n",
      "Participants found: 430.0\n",
      "Participants found: 430.0\n",
      "Participants found: 431.0\n",
      "Participants found: 432.0\n",
      "Participants found: 433.0\n",
      "Participants found: 433.0\n",
      "Participants found: 434.0\n",
      "Participants found: 434.0\n",
      "Participants found: 434.0\n",
      "Participants found: 434.0\n",
      "Participants found: 434.0\n",
      "Participants found: 434.0\n",
      "Participants found: 435.0\n",
      "Participants found: 435.0\n",
      "Participants found: 435.0\n",
      "Participants found: 435.0\n",
      "Participants found: 435.0\n",
      "Participants found: 435.0\n",
      "Participants found: 435.0\n",
      "Participants found: 436.0\n",
      "Participants found: 436.0\n",
      "Participants found: 436.0\n",
      "Participants found: 436.0\n",
      "Participants found: 436.0\n",
      "Participants found: 436.0\n",
      "Participants found: 436.0\n",
      "Participants found: 436.0\n",
      "Participants found: 436.0\n",
      "Participants found: 436.0\n",
      "Participants found: 436.0\n",
      "Participants found: 436.0\n",
      "Participants found: 436.0\n",
      "Participants found: 436.0\n",
      "Participants found: 437.0\n",
      "Participants found: 437.0\n",
      "Participants found: 437.0\n",
      "Participants found: 437.0\n",
      "Participants found: 437.0\n",
      "Participants found: 437.0\n",
      "Participants found: 437.0\n",
      "Participants found: 437.0\n",
      "Participants found: 438.0\n",
      "Participants found: 438.0\n",
      "Participants found: 438.0\n",
      "Participants found: 439.0\n",
      "Participants found: 439.0\n",
      "Participants found: 439.0\n",
      "Participants found: 439.0\n",
      "Participants found: 439.0\n",
      "Participants found: 439.0\n"
     ]
    },
    {
     "name": "stdout",
     "output_type": "stream",
     "text": [
      "Participants found: 439.0\n",
      "Participants found: 439.0\n",
      "Participants found: 439.0\n",
      "Participants found: 439.0\n",
      "Participants found: 439.0\n",
      "Participants found: 439.0\n",
      "Participants found: 439.0\n",
      "Participants found: 439.0\n",
      "Participants found: 439.0\n",
      "Participants found: 440.0\n",
      "Participants found: 440.0\n",
      "Participants found: 441.0\n",
      "Participants found: 441.0\n",
      "Participants found: 442.0\n",
      "Participants found: 442.0\n",
      "Participants found: 442.0\n",
      "Participants found: 442.0\n",
      "Participants found: 442.0\n",
      "Participants found: 442.0\n",
      "Participants found: 442.0\n",
      "Participants found: 442.0\n",
      "Participants found: 442.0\n",
      "Participants found: 442.0\n",
      "Participants found: 442.0\n",
      "Participants found: 443.0\n",
      "Participants found: 443.0\n",
      "Participants found: 443.0\n",
      "Participants found: 443.0\n",
      "Participants found: 444.0\n",
      "Participants found: 444.0\n",
      "Participants found: 445.0\n",
      "Participants found: 445.0\n",
      "Participants found: 445.0\n",
      "Participants found: 445.0\n",
      "Participants found: 445.0\n",
      "Participants found: 445.0\n",
      "Participants found: 445.0\n",
      "Participants found: 445.0\n",
      "Participants found: 445.0\n",
      "Participants found: 445.0\n",
      "Participants found: 445.0\n",
      "Participants found: 445.0\n",
      "Participants found: 445.0\n",
      "Participants found: 445.0\n",
      "Participants found: 445.0\n",
      "Participants found: 445.0\n",
      "Participants found: 445.0\n",
      "Participants found: 446.0\n",
      "Participants found: 446.0\n",
      "Participants found: 446.0\n",
      "Participants found: 446.0\n",
      "Participants found: 446.0\n",
      "Participants found: 446.0\n",
      "Participants found: 446.0\n",
      "Participants found: 446.0\n",
      "Participants found: 446.0\n",
      "Participants found: 446.0\n",
      "Participants found: 447.0\n"
     ]
    },
    {
     "data": {
      "text/plain": [
       "([<matplotlib.patches.Wedge at 0x7f860ed0ba00>,\n",
       "  <matplotlib.patches.Wedge at 0x7f860ed0bee0>,\n",
       "  <matplotlib.patches.Wedge at 0x7f860ed173a0>,\n",
       "  <matplotlib.patches.Wedge at 0x7f860ed17820>,\n",
       "  <matplotlib.patches.Wedge at 0x7f860ed17ca0>,\n",
       "  <matplotlib.patches.Wedge at 0x7f860ed25160>,\n",
       "  <matplotlib.patches.Wedge at 0x7f860ed255e0>],\n",
       " [Text(0.7873249816504768, 0.7681922762362796, 'online'),\n",
       "  Text(-0.12727564751046372, 1.0926119665969216, 'adelaide'),\n",
       "  Text(-0.4955972675344321, 0.9820302176676666, 'brisbane'),\n",
       "  Text(-0.909484364832649, 0.618739193946006, 'canberra'),\n",
       "  Text(-1.0217262869562427, -0.4075234895593254, 'melbourne'),\n",
       "  Text(0.13495155950559648, -1.0916904673885395, 'perth'),\n",
       "  Text(1.0098675722275425, -0.4360819722979263, 'sydney')])"
      ]
     },
     "execution_count": 35,
     "metadata": {},
     "output_type": "execute_result"
    },
    {
     "data": {
      "image/png": "[encoded data removed]",
      "text/plain": [
       "<Figure size 432x288 with 1 Axes>"
      ]
     },
     "metadata": {},
     "output_type": "display_data"
    }
   ],
   "source": [
    "participant_list = []\n",
    "participants = np.zeros(len(attendance))\n",
    "participants[0] = attendance[0]\n",
    "\n",
    "while participants.sum() < sum(attendance):\n",
    "    x, y = draw_from_population(1)\n",
    "    lon, lat = pixel_to_lonlat(x, y)\n",
    "    hub_index, _ = nearest_hub(lon=lon, lat=lat)\n",
    "    if participants[hub_index] < attendance[hub_index]:\n",
    "        participant_list.append((x,y))\n",
    "        participants[hub_index] += 1\n",
    "    print(\"Participants found:\", participants.sum())\n",
    "plt.pie(participants, labels=hubs)"
   ]
  },
  {
   "cell_type": "markdown",
   "id": "b79d1680",
   "metadata": {},
   "source": [
    "We've forced the same proportion of hub attendance as the final registration by accepting only enough samples to meet that quota. Now run the carbon sum with this sample:"
   ]
  },
  {
   "cell_type": "code",
   "execution_count": 36,
   "id": "fbec0ab7",
   "metadata": {},
   "outputs": [
    {
     "name": "stderr",
     "output_type": "stream",
     "text": [
      "<ipython-input-5-8ac290c5f899>:4: DeprecationWarning: Right multiplication will be prohibited in version 3.0\n",
      "  lon_abs, lat_abs = (x, y) * abs_pop_read.transform\n",
      "<ipython-input-5-8ac290c5f899>:5: DeprecationWarning: This function is deprecated. See: https://pyproj4.github.io/pyproj/stable/gotchas.html#upgrading-to-pyproj-2-from-pyproj-1\n",
      "  lons, lats = pyproj.transform(abs_proj, glob_proj, lon_abs, lat_abs)\n"
     ]
    },
    {
     "name": "stdout",
     "output_type": "stream",
     "text": [
      "Total carbon savings for the hub model are [33452.10934393] kg\n"
     ]
    }
   ],
   "source": [
    "carbon_hub = un.Quantity([0 * un.kg])\n",
    "carbon_melbourne = un.Quantity([0 * un.kg])\n",
    "\n",
    "for i, xy in enumerate(participant_list):\n",
    "    x, y = xy\n",
    "    total, _ = total_carbon(x, y, hub = True, verbose = False)\n",
    "    if not np.isnan(total):\n",
    "        carbon_hub += total\n",
    "    total, _ = total_carbon(x, y, hub = False, verbose = False)\n",
    "    if not np.isnan(total):\n",
    "        carbon_melbourne += total\n",
    "    \n",
    "print(\"Total carbon savings for the hub model are\", carbon_melbourne - carbon_hub)"
   ]
  },
  {
   "cell_type": "markdown",
   "id": "de75c820",
   "metadata": {},
   "source": [
    "We could try to consider things such as screen energy useage at the hubs, but I'm running out of time. I would also try accounting for the amount of carbon used by those participating online due to their computer useage, which is higher due to the lockdowns, but I've decided to calculate this number \"without lockdown\". This should cancel out anyway if both hub and central approaches were calculated \"with lockdown\" this way. The other weakness of my approach is that the geographic distribution of academics is probably not quite the same as the Australian population at large, most likely being concentrated near universities. This is difficult to take into account, but could be done, I think, with a lot more time."
   ]
  },
  {
   "cell_type": "code",
   "execution_count": 44,
   "id": "f6e2239b",
   "metadata": {},
   "outputs": [
    {
     "data": {
      "text/latex": [
       "$33452.109 \\; \\mathrm{kg}$"
      ],
      "text/plain": [
       "<Quantity 33452.10934393 kg>"
      ]
     },
     "execution_count": 44,
     "metadata": {},
     "output_type": "execute_result"
    }
   ],
   "source": [
    "carbon_melbourne[0] - carbon_hub[0]"
   ]
  },
  {
   "cell_type": "markdown",
   "id": "11fa2f12",
   "metadata": {},
   "source": [
    "Now, we wouldn't be scientists if we didn't put error bars on that!\n",
    "\n",
    "For some statistical robustness, let's do a brute-force Monte Carlo experiment with 100 trials. I will use the former methodology, without forcing hub attendance to their true percentages, because doing it the way just above would be time-prohibitive. The answer is of the same order of magnitude anyway, although it does seem to skew lower for the unforced method. (This will also take a long time to run)"
   ]
  },
  {
   "cell_type": "code",
   "execution_count": 40,
   "id": "344a50a8",
   "metadata": {},
   "outputs": [
    {
     "name": "stderr",
     "output_type": "stream",
     "text": [
      "<ipython-input-5-8ac290c5f899>:4: DeprecationWarning: Right multiplication will be prohibited in version 3.0\n",
      "  lon_abs, lat_abs = (x, y) * abs_pop_read.transform\n",
      "<ipython-input-5-8ac290c5f899>:5: DeprecationWarning: This function is deprecated. See: https://pyproj4.github.io/pyproj/stable/gotchas.html#upgrading-to-pyproj-2-from-pyproj-1\n",
      "  lons, lats = pyproj.transform(abs_proj, glob_proj, lon_abs, lat_abs)\n"
     ]
    },
    {
     "name": "stdout",
     "output_type": "stream",
     "text": [
      "Total savings for trial 0: [27060.94247642] kg\n",
      "Total savings for trial 1: [28423.43149315] kg\n",
      "Total savings for trial 2: [25687.23476901] kg\n",
      "Total savings for trial 3: [25963.82531796] kg\n",
      "Total savings for trial 4: [26847.57733867] kg\n",
      "Total savings for trial 5: [24215.15542315] kg\n",
      "Total savings for trial 6: [24906.42511645] kg\n",
      "Total savings for trial 7: [24841.31962986] kg\n",
      "Total savings for trial 8: [26804.9643444] kg\n",
      "Total savings for trial 9: [23757.35157343] kg\n",
      "Total savings for trial 10: [28559.03014535] kg\n"
     ]
    },
    {
     "name": "stderr",
     "output_type": "stream",
     "text": [
      "<ipython-input-12-3c19d7d26ef7>:25: RuntimeWarning: invalid value encountered in arccos\n",
      "  return np.arccos(np.sin(lat1) * np.sin(lat2) + np.cos(lat1) * np.cos(lat2) * np.cos(delta_lon))\n"
     ]
    },
    {
     "name": "stdout",
     "output_type": "stream",
     "text": [
      "Total savings for trial 11: [nan] kg\n",
      "Total savings for trial 12: [26088.0642345] kg\n",
      "Total savings for trial 13: [27004.50716907] kg\n",
      "Total savings for trial 14: [27845.66267649] kg\n",
      "Total savings for trial 15: [27257.80140222] kg\n",
      "Total savings for trial 16: [26271.77860334] kg\n",
      "Total savings for trial 17: [26604.30825845] kg\n",
      "Total savings for trial 18: [25312.1200703] kg\n",
      "Total savings for trial 19: [24598.99788068] kg\n",
      "Total savings for trial 20: [28223.93939702] kg\n",
      "Total savings for trial 21: [25204.8969239] kg\n",
      "Total savings for trial 22: [26676.85329289] kg\n",
      "Total savings for trial 23: [27181.24899888] kg\n",
      "Total savings for trial 24: [28749.89096029] kg\n",
      "Total savings for trial 25: [26280.2130175] kg\n",
      "Total savings for trial 26: [24934.27232734] kg\n",
      "Total savings for trial 27: [29705.21971572] kg\n",
      "Total savings for trial 28: [24554.00274868] kg\n",
      "Total savings for trial 29: [28652.40085251] kg\n",
      "Total savings for trial 30: [26869.74272458] kg\n",
      "Total savings for trial 31: [26214.43030132] kg\n",
      "Total savings for trial 32: [28887.92582506] kg\n",
      "Total savings for trial 33: [27654.0720505] kg\n",
      "Total savings for trial 34: [24606.15968804] kg\n",
      "Total savings for trial 35: [26354.05222074] kg\n",
      "Total savings for trial 36: [26120.6480071] kg\n",
      "Total savings for trial 37: [26410.14041795] kg\n",
      "Total savings for trial 38: [25575.82339423] kg\n",
      "Total savings for trial 39: [26361.87989355] kg\n",
      "Total savings for trial 40: [27683.7612069] kg\n",
      "Total savings for trial 41: [26550.61233118] kg\n",
      "Total savings for trial 42: [nan] kg\n",
      "Total savings for trial 43: [23380.18216179] kg\n",
      "Total savings for trial 44: [26207.71202766] kg\n",
      "Total savings for trial 45: [29405.19396048] kg\n",
      "Total savings for trial 46: [26779.60861691] kg\n",
      "Total savings for trial 47: [28101.1458118] kg\n",
      "Total savings for trial 48: [26416.80037229] kg\n",
      "Total savings for trial 49: [26805.70309664] kg\n",
      "Total savings for trial 50: [24592.99223394] kg\n",
      "Total savings for trial 51: [28421.91611474] kg\n",
      "Total savings for trial 52: [25345.14175022] kg\n",
      "Total savings for trial 53: [27355.89888006] kg\n",
      "Total savings for trial 54: [27979.65048964] kg\n",
      "Total savings for trial 55: [27469.69172861] kg\n",
      "Total savings for trial 56: [24747.41859705] kg\n",
      "Total savings for trial 57: [26878.29978179] kg\n",
      "Total savings for trial 58: [24764.45462154] kg\n",
      "Total savings for trial 59: [25349.30412475] kg\n",
      "Total savings for trial 60: [25301.40067643] kg\n",
      "Total savings for trial 61: [25944.22783986] kg\n",
      "Total savings for trial 62: [25723.16928719] kg\n",
      "Total savings for trial 63: [25661.47889865] kg\n",
      "Total savings for trial 64: [26230.28433452] kg\n",
      "Total savings for trial 65: [27330.5968233] kg\n",
      "Total savings for trial 66: [25132.47609218] kg\n",
      "Total savings for trial 67: [29460.15328025] kg\n",
      "Total savings for trial 68: [25714.8766861] kg\n",
      "Total savings for trial 69: [25860.35753583] kg\n",
      "Total savings for trial 70: [26385.57444353] kg\n",
      "Total savings for trial 71: [29377.94086747] kg\n",
      "Total savings for trial 72: [25078.09659873] kg\n",
      "Total savings for trial 73: [30005.32569827] kg\n",
      "Total savings for trial 74: [29021.64400949] kg\n",
      "Total savings for trial 75: [25188.78506167] kg\n",
      "Total savings for trial 76: [24772.4117298] kg\n",
      "Total savings for trial 77: [26013.24452747] kg\n",
      "Total savings for trial 78: [25259.7467082] kg\n",
      "Total savings for trial 79: [27691.68480138] kg\n",
      "Total savings for trial 80: [26427.88150138] kg\n",
      "Total savings for trial 81: [25410.42678412] kg\n",
      "Total savings for trial 82: [24516.23736864] kg\n",
      "Total savings for trial 83: [27062.1854508] kg\n",
      "Total savings for trial 84: [26281.93090604] kg\n",
      "Total savings for trial 85: [26453.5525899] kg\n",
      "Total savings for trial 86: [23873.80509272] kg\n",
      "Total savings for trial 87: [23898.67078244] kg\n",
      "Total savings for trial 88: [27827.71883187] kg\n",
      "Total savings for trial 89: [28882.41086935] kg\n",
      "Total savings for trial 90: [25816.0666927] kg\n",
      "Total savings for trial 91: [28513.20985788] kg\n",
      "Total savings for trial 92: [25378.89347916] kg\n",
      "Total savings for trial 93: [25820.42617419] kg\n",
      "Total savings for trial 94: [25161.33796782] kg\n",
      "Total savings for trial 95: [27146.59031769] kg\n",
      "Total savings for trial 96: [27090.93748749] kg\n",
      "Total savings for trial 97: [26003.07323002] kg\n",
      "Total savings for trial 98: [27145.02436368] kg\n",
      "Total savings for trial 99: [26041.72886719] kg\n"
     ]
    }
   ],
   "source": [
    "savings = []\n",
    "\n",
    "for j in range(100):\n",
    "\n",
    "    total_carbon_hub = un.Quantity([0 * un.kg])\n",
    "    total_carbon_melbourne = un.Quantity([0 * un.kg])\n",
    "    \n",
    "    xs, ys = draw_from_population(total_in_person)\n",
    "    lons, lats = pixel_to_lonlat(xs, ys)\n",
    "\n",
    "    for i in range(len(xs)):\n",
    "        x = xs[i]\n",
    "        y = ys[i]\n",
    "        total, hub_index = total_carbon(x, y, hub = True, verbose = False)\n",
    "        total_carbon_hub += total\n",
    "        nearest_hubs[hub_index] += 1\n",
    "        total, _ = total_carbon(x, y, hub = False, verbose = False)\n",
    "        total_carbon_melbourne += total\n",
    "    \n",
    "    saving = total_carbon_melbourne[0] - total_carbon_hub[0]\n",
    "    print(f\"Total savings for trial {j}: {saving}\")\n",
    "    savings.append(saving)"
   ]
  },
  {
   "cell_type": "code",
   "execution_count": 46,
   "id": "e7a6910d",
   "metadata": {},
   "outputs": [
    {
     "data": {
      "text/plain": [
       "(array([ 4.,  6., 16., 14., 19., 15.,  8.,  7.,  4.,  5.]),\n",
       " array([23380.18216179, 24042.69651544, 24705.21086909, 25367.72522274,\n",
       "        26030.23957639, 26692.75393003, 27355.26828368, 28017.78263733,\n",
       "        28680.29699098, 29342.81134462, 30005.32569827]),\n",
       " <BarContainer object of 10 artists>)"
      ]
     },
     "execution_count": 46,
     "metadata": {},
     "output_type": "execute_result"
    },
    {
     "data": {
      "image/png": "[encoded data removed]",
      "text/plain": [
       "<Figure size 432x288 with 1 Axes>"
      ]
     },
     "metadata": {
      "needs_background": "light"
     },
     "output_type": "display_data"
    }
   ],
   "source": [
    "plt.hist(np.array(savings))"
   ]
  },
  {
   "cell_type": "markdown",
   "id": "ed10e9af",
   "metadata": {},
   "source": [
    "Looks pretty Gaussian, thankfully."
   ]
  },
  {
   "cell_type": "code",
   "execution_count": 49,
   "id": "c1c31a0a",
   "metadata": {},
   "outputs": [
    {
     "name": "stdout",
     "output_type": "stream",
     "text": [
      "Median value:\n"
     ]
    },
    {
     "data": {
      "text/plain": [
       "26317.991563391108"
      ]
     },
     "execution_count": 49,
     "metadata": {},
     "output_type": "execute_result"
    }
   ],
   "source": [
    "print(\"Median value:\")\n",
    "median = np.nanmedian(np.array(savings))\n",
    "median"
   ]
  },
  {
   "cell_type": "code",
   "execution_count": 50,
   "id": "08a9ff4a",
   "metadata": {},
   "outputs": [
    {
     "name": "stdout",
     "output_type": "stream",
     "text": [
      "Mean value:\n"
     ]
    },
    {
     "data": {
      "text/plain": [
       "26463.361052082648"
      ]
     },
     "execution_count": 50,
     "metadata": {},
     "output_type": "execute_result"
    }
   ],
   "source": [
    "print(\"Mean value:\")\n",
    "mean = np.nanmean(np.array(savings))\n",
    "mean"
   ]
  },
  {
   "cell_type": "code",
   "execution_count": 52,
   "id": "23860b38",
   "metadata": {},
   "outputs": [
    {
     "name": "stdout",
     "output_type": "stream",
     "text": [
      "Standard deviation:\n"
     ]
    },
    {
     "data": {
      "text/plain": [
       "1462.4033657408402"
      ]
     },
     "execution_count": 52,
     "metadata": {},
     "output_type": "execute_result"
    }
   ],
   "source": [
    "print(\"Standard deviation:\")\n",
    "sigma = np.nanstd(np.array(savings))\n",
    "sigma"
   ]
  },
  {
   "cell_type": "markdown",
   "id": "69d8d4d0",
   "metadata": {},
   "source": [
    "For our 95% confidence answer, let's then take:"
   ]
  },
  {
   "cell_type": "code",
   "execution_count": 55,
   "id": "de681cd1",
   "metadata": {},
   "outputs": [
    {
     "name": "stdout",
     "output_type": "stream",
     "text": [
      "26463.0 ± 2924.0 kg\n"
     ]
    }
   ],
   "source": [
    "print(f\"{np.round(mean)} ± {2 * np.round(sigma)} kg\")"
   ]
  },
  {
   "cell_type": "markdown",
   "id": "23546f27",
   "metadata": {},
   "source": [
    "Or 26,000 ± 3,000 kg\n",
    "**QED**"
   ]
  }
 ],
 "metadata": {
  "kernelspec": {
   "display_name": "Python 3",
   "language": "python",
   "name": "python3"
  },
  "language_info": {
   "codemirror_mode": {
    "name": "ipython",
    "version": 3
   },
   "file_extension": ".py",
   "mimetype": "text/x-python",
   "name": "python",
   "nbconvert_exporter": "python",
   "pygments_lexer": "ipython3",
   "version": "3.9.5"
  }
 },
 "nbformat": 4,
 "nbformat_minor": 5
}
